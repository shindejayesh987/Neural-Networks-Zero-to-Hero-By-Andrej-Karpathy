{
  "cells": [
    {
      "cell_type": "markdown",
      "metadata": {
        "id": "view-in-github",
        "colab_type": "text"
      },
      "source": [
        "<a href=\"https://colab.research.google.com/github/shindejayesh987/Neural-Networks-Zero-to-Hero-By-Andrej-Karpathy/blob/main/gpt_dev_part6.ipynb\" target=\"_parent\"><img src=\"https://colab.research.google.com/assets/colab-badge.svg\" alt=\"Open In Colab\"/></a>"
      ]
    },
    {
      "cell_type": "markdown",
      "metadata": {
        "id": "AR4RkbvY42Lx"
      },
      "source": [
        "# 1- Preparing the data"
      ]
    },
    {
      "cell_type": "markdown",
      "metadata": {
        "id": "UqkFFhdN42Lz"
      },
      "source": [
        "## 1.1- Opening and Exploring the Data"
      ]
    },
    {
      "cell_type": "code",
      "execution_count": null,
      "metadata": {
        "colab": {
          "base_uri": "https://localhost:8080/"
        },
        "id": "XYB3TSs742Lz",
        "outputId": "6b4bef6a-3bf1-44b4-d888-372c3f887064"
      },
      "outputs": [
        {
          "output_type": "stream",
          "name": "stdout",
          "text": [
            "length of dataset in characters: 1115393\n"
          ]
        }
      ],
      "source": [
        "with open(\"/content/shakespere.txt\", \"r\", encoding=\"utf-8\") as f:\n",
        "    text = f.read()\n",
        "\n",
        "print(f\"length of dataset in characters: {len(text)}\")"
      ]
    },
    {
      "cell_type": "code",
      "execution_count": null,
      "metadata": {
        "colab": {
          "base_uri": "https://localhost:8080/"
        },
        "id": "VLTrRUvg42L0",
        "outputId": "4e5ea059-1774-4e9d-f611-66a8ff144829"
      },
      "outputs": [
        {
          "output_type": "stream",
          "name": "stdout",
          "text": [
            "first 1000 characters of dataset:\n",
            "First Citizen:\n",
            "Before we proceed any further, hear me speak.\n",
            "\n",
            "All:\n",
            "Speak, speak.\n",
            "\n",
            "First Citizen:\n",
            "You are all resolved rather to die than to famish?\n",
            "\n",
            "All:\n",
            "Resolved. resolved.\n",
            "\n",
            "First Citizen:\n",
            "First, you know Caius Marcius is chief enemy to the people.\n",
            "\n",
            "All:\n",
            "We know't, we know't.\n",
            "\n",
            "First Citizen:\n",
            "Let us kill him, and we'll have corn at our own price.\n",
            "Is't a verdict?\n",
            "\n",
            "All:\n",
            "No more talking on't; let it be done: away, away!\n",
            "\n",
            "Second Citizen:\n",
            "One word, good citizens.\n",
            "\n",
            "First Citizen:\n",
            "We are accounted poor citizens, the patricians good.\n",
            "What authority surfeits on would relieve us: if they\n",
            "would yield us but the superfluity, while it were\n",
            "wholesome, we might guess they relieved us humanely;\n",
            "but they think we are too dear: the leanness that\n",
            "afflicts us, the object of our misery, is as an\n",
            "inventory to particularise their abundance; our\n",
            "sufferance is a gain to them Let us revenge this with\n",
            "our pikes, ere we become rakes: for the gods know I\n",
            "speak this in hunger for bread, not in thirst for revenge.\n",
            "\n",
            "\n"
          ]
        }
      ],
      "source": [
        "print(f\"first 1000 characters of dataset:\\n{text[:1000]}\")"
      ]
    },
    {
      "cell_type": "markdown",
      "metadata": {
        "id": "IAXP1Boq42L0"
      },
      "source": [
        "## 1.2- Tokenization"
      ]
    },
    {
      "cell_type": "code",
      "execution_count": null,
      "metadata": {
        "colab": {
          "base_uri": "https://localhost:8080/"
        },
        "id": "wwN3gs1s42L1",
        "outputId": "6c55307d-97de-4f76-fa5e-91bc73f9edb7"
      },
      "outputs": [
        {
          "output_type": "stream",
          "name": "stdout",
          "text": [
            "all chars are:\n",
            " !$&',-.3:;?ABCDEFGHIJKLMNOPQRSTUVWXYZabcdefghijklmnopqrstuvwxyz\n",
            "vocab size: 65\n"
          ]
        }
      ],
      "source": [
        "chars = sorted(list(set(text)))\n",
        "vocab_size = len(chars)\n",
        "\n",
        "print(f\"all chars are:{''.join(chars)}\")\n",
        "print(f\"vocab size: {vocab_size}\")"
      ]
    },
    {
      "cell_type": "code",
      "execution_count": null,
      "metadata": {
        "colab": {
          "base_uri": "https://localhost:8080/"
        },
        "id": "7UQJ_17F42L1",
        "outputId": "343808cf-ce1d-4d5b-d5f1-7fc2bbc3c66d"
      },
      "outputs": [
        {
          "output_type": "stream",
          "name": "stdout",
          "text": [
            "[20, 43, 50, 50, 53, 6, 1, 61, 53, 56, 50, 42, 2]\n",
            "Hello, world!\n"
          ]
        }
      ],
      "source": [
        "stoi = {ch:i for i, ch in enumerate(chars)}\n",
        "itos = {val:key for key, val in stoi.items()}\n",
        "\n",
        "encode = lambda s: [stoi[c] for c in s]\n",
        "decode = lambda l: ''.join([itos[i] for i in l])\n",
        "\n",
        "print(encode(\"Hello, world!\"))\n",
        "print(decode(encode(\"Hello, world!\")))"
      ]
    },
    {
      "cell_type": "code",
      "execution_count": null,
      "metadata": {
        "colab": {
          "base_uri": "https://localhost:8080/"
        },
        "id": "J66OHV6542L1",
        "outputId": "2663b44e-f1ff-4af6-d3d8-03740e9f0b57"
      },
      "outputs": [
        {
          "output_type": "stream",
          "name": "stdout",
          "text": [
            "data shape: torch.Size([1115393])\n",
            "data type: torch.int64\n",
            "--------------------------------------------------\n",
            "first 100 characters of dataset:\n",
            "tensor([18, 47, 56, 57, 58,  1, 15, 47, 58, 47, 64, 43, 52, 10,  0, 14, 43, 44,\n",
            "        53, 56, 43,  1, 61, 43,  1, 54, 56, 53, 41, 43, 43, 42,  1, 39, 52, 63,\n",
            "         1, 44, 59, 56, 58, 46, 43, 56,  6,  1, 46, 43, 39, 56,  1, 51, 43,  1,\n",
            "        57, 54, 43, 39, 49,  8,  0,  0, 13, 50, 50, 10,  0, 31, 54, 43, 39, 49,\n",
            "         6,  1, 57, 54, 43, 39, 49,  8,  0,  0, 18, 47, 56, 57, 58,  1, 15, 47,\n",
            "        58, 47, 64, 43, 52, 10,  0, 37, 53, 59])\n",
            "first 100 characters of dataset:\n",
            "First Citizen:\n",
            "Before we proceed any further, hear me speak.\n",
            "\n",
            "All:\n",
            "Speak, speak.\n",
            "\n",
            "First Citizen:\n",
            "You\n"
          ]
        }
      ],
      "source": [
        "import torch\n",
        "data = torch.tensor(encode(text), dtype = torch.long)\n",
        "\n",
        "print(f\"data shape: {data.shape}\")\n",
        "print(f\"data type: {data.dtype}\")\n",
        "\n",
        "print(\"-\"*50)\n",
        "\n",
        "print(f\"first 100 characters of dataset:\\n{data[:100]}\")\n",
        "print(f\"first 100 characters of dataset:\\n{decode(data[:100].tolist())}\")"
      ]
    },
    {
      "cell_type": "markdown",
      "metadata": {
        "id": "m9PXwEnG42L1"
      },
      "source": [
        "## 1.3- Train Validation Split"
      ]
    },
    {
      "cell_type": "code",
      "execution_count": null,
      "metadata": {
        "id": "wpcujCTx42L1"
      },
      "outputs": [],
      "source": [
        "n = int(0.9 * len(data))\n",
        "\n",
        "train_data = data[:n]\n",
        "val_data = data[n:]"
      ]
    },
    {
      "cell_type": "markdown",
      "metadata": {
        "id": "aLPB5PPK42L2"
      },
      "source": [
        "## 1.4 Create DataLoader"
      ]
    },
    {
      "cell_type": "code",
      "execution_count": null,
      "metadata": {
        "colab": {
          "base_uri": "https://localhost:8080/"
        },
        "id": "Oh5lGQIL42L2",
        "outputId": "4499c9f1-5526-4095-9303-5d2d2b05d879"
      },
      "outputs": [
        {
          "output_type": "execute_result",
          "data": {
            "text/plain": [
              "tensor([18, 47, 56, 57, 58,  1, 15, 47, 58])"
            ]
          },
          "metadata": {},
          "execution_count": 59
        }
      ],
      "source": [
        "block_size = 8\n",
        "train_data[:block_size + 1]"
      ]
    },
    {
      "cell_type": "code",
      "execution_count": null,
      "metadata": {
        "colab": {
          "base_uri": "https://localhost:8080/"
        },
        "id": "wQ9woGxh42L2",
        "outputId": "6e70a5e7-d642-4027-eb3b-ce0a36e60eeb"
      },
      "outputs": [
        {
          "output_type": "stream",
          "name": "stdout",
          "text": [
            "when input tensor is [18], target is 47\n",
            "when input tensor is [18, 47], target is 56\n",
            "when input tensor is [18, 47, 56], target is 57\n",
            "when input tensor is [18, 47, 56, 57], target is 58\n",
            "when input tensor is [18, 47, 56, 57, 58], target is 1\n",
            "when input tensor is [18, 47, 56, 57, 58, 1], target is 15\n",
            "when input tensor is [18, 47, 56, 57, 58, 1, 15], target is 47\n",
            "when input tensor is [18, 47, 56, 57, 58, 1, 15, 47], target is 58\n"
          ]
        }
      ],
      "source": [
        "x = train_data[:block_size]\n",
        "y = train_data[1:block_size + 1]\n",
        "\n",
        "for t in range(block_size):\n",
        "    context = x[:t + 1]\n",
        "    target = y[t]\n",
        "    print(f\"when input tensor is {context.tolist()}, target is {target}\")"
      ]
    },
    {
      "cell_type": "code",
      "execution_count": null,
      "metadata": {
        "colab": {
          "base_uri": "https://localhost:8080/"
        },
        "id": "rVj1khw642L2",
        "outputId": "6bb5c057-cb49-43b0-a4ad-41c47428f074"
      },
      "outputs": [
        {
          "output_type": "stream",
          "name": "stdout",
          "text": [
            "inputs:\n",
            "shapetorch.Size([4, 8])\n",
            "data: tensor([[53, 59,  6,  1, 58, 56, 47, 40],\n",
            "        [49, 43, 43, 54,  1, 47, 58,  1],\n",
            "        [13, 52, 45, 43, 50, 53,  8,  0],\n",
            "        [ 1, 39,  1, 46, 53, 59, 57, 43]])\n",
            "targets:\n",
            "shapetorch.Size([4, 8])\n",
            "data: tensor([[59,  6,  1, 58, 56, 47, 40, 59],\n",
            "        [43, 43, 54,  1, 47, 58,  1, 58],\n",
            "        [52, 45, 43, 50, 53,  8,  0, 26],\n",
            "        [39,  1, 46, 53, 59, 57, 43,  0]])\n"
          ]
        }
      ],
      "source": [
        "torch.manual_seed(1337)\n",
        "batch_size = 4 # how many independent sequences will we process in parallel\n",
        "block_size = 8 # what is the maximum context length for predictions?\n",
        "\n",
        "# number of input_examples = batch_size * block_size (4 * 8 = 32)\n",
        "\n",
        "def get_batch(split):\n",
        "    # Select the appropriate dataset based on the split parameter\n",
        "    data = train_data if split == \"train\" else val_data\n",
        "\n",
        "    # Generate a batch of random starting indices within the dataset\n",
        "    ix = torch.randint(len(data) - block_size, (batch_size,))\n",
        "\n",
        "    # Select a block of text of size block_size starting from each random index\n",
        "    x = torch.stack([data[i:i+block_size] for i in ix])\n",
        "\n",
        "    # Shift the selected block of text by one character to the right to create the target sequence\n",
        "    y = torch.stack([data[i+1:i+block_size+1] for i in ix])\n",
        "    return x, y\n",
        "\n",
        "xb, yb = get_batch(\"train\")\n",
        "print(f\"inputs:\\nshape{xb.shape}\\ndata: {xb}\")\n",
        "print(f\"targets:\\nshape{yb.shape}\\ndata: {yb}\")"
      ]
    },
    {
      "cell_type": "markdown",
      "metadata": {
        "id": "kP_i49jD42L2"
      },
      "source": [
        "# 2- Bigram Language Model\n",
        "simplest language model"
      ]
    },
    {
      "cell_type": "code",
      "execution_count": null,
      "metadata": {
        "colab": {
          "base_uri": "https://localhost:8080/"
        },
        "id": "IhDIrxtj42L2",
        "outputId": "5622fa90-f36e-40d2-a862-02f4251eb127"
      },
      "outputs": [
        {
          "output_type": "execute_result",
          "data": {
            "text/plain": [
              "<torch._C.Generator at 0x7e2b81742210>"
            ]
          },
          "metadata": {},
          "execution_count": 62
        }
      ],
      "source": [
        "import torch\n",
        "import torch.nn as nn\n",
        "from torch.nn import functional as F\n",
        "\n",
        "import matplotlib.pyplot as plt\n",
        "\n",
        "torch.manual_seed(1337)"
      ]
    },
    {
      "cell_type": "markdown",
      "metadata": {
        "id": "o30WWmc-42L3"
      },
      "source": [
        "## 2.1 Creating the Model"
      ]
    },
    {
      "cell_type": "code",
      "execution_count": null,
      "metadata": {
        "colab": {
          "base_uri": "https://localhost:8080/"
        },
        "id": "nzou8J5T42L3",
        "outputId": "d93d8cf9-edf4-4058-d921-0ca2500ca4c7"
      },
      "outputs": [
        {
          "output_type": "stream",
          "name": "stdout",
          "text": [
            "logits shape: torch.Size([32, 65])\n",
            "loss: 4.894842624664307 | we are expecting a loss of around 4.174387454986572\n"
          ]
        }
      ],
      "source": [
        "class BigramLanguageModel(nn.Module):\n",
        "    def __init__(self, vocab_size):\n",
        "        super().__init__()\n",
        "        # each token directly reads off the logits for the next token from a loockup table\n",
        "        self.token_embedding_table = nn.Embedding(vocab_size, vocab_size)\n",
        "\n",
        "    def forward(self, idx, targets = None):\n",
        "        # idx and targets are both (B, T) tensor of ints\n",
        "        logits = self.token_embedding_table(idx) # (B, T, C) = (4, 8 , vocab_size)\n",
        "\n",
        "        if targets is None:\n",
        "            loss = None\n",
        "        else:\n",
        "            # note that F.cross_entropy accepts inputs in shape (B, C, T)\n",
        "            B, T, C = logits.shape\n",
        "            logits = logits.view(B * T, C)\n",
        "            targets = targets.view(B * T) # can be as targets = targets.view(-1)\n",
        "\n",
        "            loss = F.cross_entropy(logits, targets)\n",
        "\n",
        "        return logits, loss\n",
        "\n",
        "    def generate(self, idx, max_new_tokens):\n",
        "        # idx is (B, T) array of indices in the current context\n",
        "        for _ in range(max_new_tokens):\n",
        "            # get the logits for the next token\n",
        "            logits, loss = self(idx)\n",
        "            # focus only on the last time step\n",
        "            # (note that we are feeding the whole context each time, however we only care about the last prediction)\n",
        "            # (this make doesn't make sense now, but the function will be modified later)\n",
        "            logits = logits[:, -1, :] # Becomes (B, C) (get the last time step for each sequence)\n",
        "            # apply softmax to convert to probabilities\n",
        "            probs = F.softmax(logits, dim = -1) # (B, C)\n",
        "            # sample from the distribution\n",
        "            idx_next = torch.multinomial(probs, num_samples=1) # (B, 1)\n",
        "            # append sampled token to the context\n",
        "            idx = torch.cat((idx, idx_next), dim = 1) # (B, T + 1)\n",
        "        return idx\n",
        "\n",
        "\n",
        "m = BigramLanguageModel(vocab_size)\n",
        "logits, loss = m(xb, yb)\n",
        "\n",
        "print(f\"logits shape: {logits.shape}\")\n",
        "print(f\"loss: {loss} | we are expecting a loss of around {torch.log(torch.tensor(vocab_size))}\")"
      ]
    },
    {
      "cell_type": "code",
      "execution_count": null,
      "metadata": {
        "colab": {
          "base_uri": "https://localhost:8080/"
        },
        "id": "_qpZIx0M42L3",
        "outputId": "860f8439-8378-468a-e325-ddcb5bf86711"
      },
      "outputs": [
        {
          "output_type": "stream",
          "name": "stdout",
          "text": [
            "\n",
            "Sr?qP-QWktXoL&jLDJgOLVz'RIoDqHdhsV&vLLxatjscMpwLERSPyao.qfzs$Ys$zF-w,;eEkzxjgCKFChs!iWW.ObzDnxA Ms$3\n"
          ]
        }
      ],
      "source": [
        "idx = torch.zeros((1,1), dtype = torch.long)\n",
        "generated = m.generate(idx, 100) # shape (1, 101)\n",
        "print(decode(generated[0].tolist()))"
      ]
    },
    {
      "cell_type": "markdown",
      "metadata": {
        "id": "NCai-E1Z42L3"
      },
      "source": [
        "## 2.2- Training the Model"
      ]
    },
    {
      "cell_type": "code",
      "execution_count": null,
      "metadata": {
        "colab": {
          "base_uri": "https://localhost:8080/"
        },
        "id": "DS4rufqO42L4",
        "outputId": "880b85ed-cc07-4876-fb2d-8681277b1698"
      },
      "outputs": [
        {
          "output_type": "stream",
          "name": "stdout",
          "text": [
            "loss: 2.4699912071228027\n"
          ]
        }
      ],
      "source": [
        "optimizer = torch.optim.AdamW(m.parameters(), lr = 1e-3)\n",
        "batch_size = 32\n",
        "lossi = []\n",
        "\n",
        "for i in range(10000):\n",
        "    # sample a batch of training data\n",
        "    xb, yb = get_batch(\"train\")\n",
        "\n",
        "    # evaluate the loss\n",
        "    logits, loss = m(xb, yb)\n",
        "    optimizer.zero_grad(set_to_none = True)\n",
        "    loss.backward()\n",
        "    optimizer.step()\n",
        "\n",
        "    lossi.append(loss.item())\n",
        "\n",
        "print(f\"loss: {loss.item()}\")"
      ]
    },
    {
      "cell_type": "code",
      "execution_count": null,
      "metadata": {
        "colab": {
          "base_uri": "https://localhost:8080/",
          "height": 430
        },
        "id": "zvjxeGbS42L4",
        "outputId": "4b36fc1e-b7a0-4b3c-fbd6-a9c3b5f09597"
      },
      "outputs": [
        {
          "output_type": "display_data",
          "data": {
            "text/plain": [
              "<Figure size 640x480 with 1 Axes>"
            ],
            "image/png": "[encoded data removed]"
          },
          "metadata": {}
        }
      ],
      "source": [
        "plt.plot(lossi);"
      ]
    },
    {
      "cell_type": "code",
      "execution_count": null,
      "metadata": {
        "colab": {
          "base_uri": "https://localhost:8080/"
        },
        "id": "gRrb8HOi42L4",
        "outputId": "8f742009-94df-4962-8fde-797556c0f82e"
      },
      "outputs": [
        {
          "output_type": "stream",
          "name": "stdout",
          "text": [
            "\n",
            "Iyoteng h hasbe pave pirance\n",
            "Rie hicomyonthar's\n",
            "Plinseard ith henouratucenonthioneir thondy, y heltieiengerofo'dsssit ey\n",
            "KIN d pe wither vouprrouthercc.\n",
            "hathe; d!\n",
            "My hind tt hinig t ouchos tes; st yo hind wotte grotonear 'so it t jod weancotha:\n",
            "h haybet--s n prids, r loncave w hollular s O:\n",
            "HIs; ht anjx?\n",
            "\n",
            "DUThinqunt.\n",
            "\n",
            "LaZAnde.\n",
            "athave l.\n",
            "KEONH:\n",
            "ARThanco be y,-hedarwnoddy scat t tridesar, wnl'shenou\n"
          ]
        }
      ],
      "source": [
        "# sampling from the model\n",
        "idx = torch.zeros((1,1), dtype = torch.long)\n",
        "generated = m.generate(idx, 400) # shape (1, 101)\n",
        "print(decode(generated[0].tolist()))"
      ]
    },
    {
      "cell_type": "markdown",
      "metadata": {
        "id": "8FhjfAT242L4"
      },
      "source": [
        "## 2.3- Porting our code to a script\n",
        "check `bigram.py`"
      ]
    },
    {
      "cell_type": "markdown",
      "metadata": {
        "id": "r2n1Bnw442L4"
      },
      "source": [
        "# 3- Self Attention Trick (Averaging the previous tokens embeddings)\n",
        "\n",
        "- we need each token commuinicate with all previous tokens, for example: the 5th token communicate with 1st, 2nd, 3rd, 4th tokens\n",
        "\n",
        "- since we are predicting the next token, we need to consider the previous tokens only\n",
        "\n",
        "- The easiset way to make them communicate is averaging the previous tokens embeddings (it's kinda lossy since we are losing the spatial information)"
      ]
    },
    {
      "cell_type": "markdown",
      "metadata": {
        "id": "YUQJwt8j42L4"
      },
      "source": [
        "## 3.1- Using Explicit loops"
      ]
    },
    {
      "cell_type": "code",
      "execution_count": null,
      "metadata": {
        "colab": {
          "base_uri": "https://localhost:8080/"
        },
        "id": "xLOFF-6942L5",
        "outputId": "13f5c2aa-48f6-4878-ac8b-b5a31ac22d84"
      },
      "outputs": [
        {
          "output_type": "stream",
          "name": "stdout",
          "text": [
            "x shape: torch.Size([4, 8, 2])\n"
          ]
        }
      ],
      "source": [
        "torch.manual_seed(1337)\n",
        "B, T, C = 4, 8, 2 # batch size, time, channels\n",
        "x = torch.randn(B, T, C)\n",
        "print(f\"x shape: {x.shape}\")\n",
        "\n",
        "# We want x[b, t] = mean_(i<=t) x[b, i]\n",
        "xbow = torch.zeros((B, T, C))\n",
        "for b in range(B):\n",
        "    for t in range(T):\n",
        "        xprev = x[b, :t+1] # (t, C)\n",
        "        xbow[b, t] = torch.mean(xprev, dim = 0) # average over time dimension (t)"
      ]
    },
    {
      "cell_type": "code",
      "execution_count": null,
      "metadata": {
        "colab": {
          "base_uri": "https://localhost:8080/"
        },
        "id": "sQv49aZE42L5",
        "outputId": "35c4225c-b93e-4665-f33b-14c9a976191f"
      },
      "outputs": [
        {
          "output_type": "stream",
          "name": "stdout",
          "text": [
            "x[0]: tensor([[ 0.1808, -0.0700],\n",
            "        [-0.3596, -0.9152],\n",
            "        [ 0.6258,  0.0255],\n",
            "        [ 0.9545,  0.0643],\n",
            "        [ 0.3612,  1.1679],\n",
            "        [-1.3499, -0.5102],\n",
            "        [ 0.2360, -0.2398],\n",
            "        [-0.9211,  1.5433]])\n",
            "xbow[0]: tensor([[ 0.1808, -0.0700],\n",
            "        [-0.0894, -0.4926],\n",
            "        [ 0.1490, -0.3199],\n",
            "        [ 0.3504, -0.2238],\n",
            "        [ 0.3525,  0.0545],\n",
            "        [ 0.0688, -0.0396],\n",
            "        [ 0.0927, -0.0682],\n",
            "        [-0.0341,  0.1332]])\n",
            "tensor([True, True])\n",
            "tensor([True, True])\n"
          ]
        }
      ],
      "source": [
        "# Let's Check the first Batch\n",
        "print(f\"x[0]: {x[0]}\")\n",
        "print(f\"xbow[0]: {xbow[0]}\")\n",
        "\n",
        "# the first row is the same\n",
        "print(x[0, 0] == xbow[0, 0])\n",
        "# the second row is the average of the first two rows\n",
        "print((x[0, 0] + x[0, 1]) / 2 == xbow[0, 1])\n",
        "# etc ..."
      ]
    },
    {
      "cell_type": "markdown",
      "metadata": {
        "id": "j3R0ZKrv42L5"
      },
      "source": [
        "## 3.2- Using Matrix Multiplication\n",
        "- instead of nested loops, we can make it using matrix multiplication\n",
        "- This can be done by multiplying the matrix with lower triangular matrix"
      ]
    },
    {
      "cell_type": "code",
      "execution_count": null,
      "metadata": {
        "colab": {
          "base_uri": "https://localhost:8080/"
        },
        "id": "1BUMldgD42L5",
        "outputId": "32b5b1dc-001a-4076-c13c-c39ca0ffa496"
      },
      "outputs": [
        {
          "output_type": "stream",
          "name": "stdout",
          "text": [
            "a (shape = torch.Size([3, 3])) =\n",
            "tensor([[1.0000, 0.0000, 0.0000],\n",
            "        [0.5000, 0.5000, 0.0000],\n",
            "        [0.3333, 0.3333, 0.3333]])\n",
            "b (shape = torch.Size([3, 2])) =\n",
            "tensor([[2., 7.],\n",
            "        [6., 4.],\n",
            "        [6., 5.]])\n",
            "c (shape = torch.Size([3, 2])) =\n",
            "tensor([[2.0000, 7.0000],\n",
            "        [4.0000, 5.5000],\n",
            "        [4.6667, 5.3333]])\n"
          ]
        }
      ],
      "source": [
        "\n",
        "torch.manual_seed(42)\n",
        "# lower triangular matrix of ones\n",
        "a = torch.tril(torch.ones(3,3))\n",
        "# make all rows sum to 1\n",
        "a = a / torch.sum(a, 1, keepdim = True)\n",
        "# create a random matrix\n",
        "b = torch.randint(0, 10, (3, 2)).float()\n",
        "\n",
        "c = a @ b\n",
        "print(f\"a (shape = {a.shape}) =\\n{a}\")\n",
        "print(f\"b (shape = {b.shape}) =\\n{b}\")\n",
        "print(f\"c (shape = {c.shape}) =\\n{c}\")"
      ]
    },
    {
      "cell_type": "code",
      "execution_count": null,
      "metadata": {
        "colab": {
          "base_uri": "https://localhost:8080/"
        },
        "id": "FUvfkiOO42L6",
        "outputId": "0f2eb636-9099-4705-bf39-763a61493039"
      },
      "outputs": [
        {
          "output_type": "stream",
          "name": "stdout",
          "text": [
            "True\n"
          ]
        }
      ],
      "source": [
        "# We want x[b, t] = mean_(i<=t) x[b, i]\n",
        "wei = torch.tril(torch.ones(T, T)) # (T, T)\n",
        "# make all rows sum to 1\n",
        "wei = wei / torch.sum(wei, 1, keepdim = True) # (T, T)\n",
        "xbow2 = wei @ x # (T, T) @ (B, T, C) ----broadcasting----> (B, T, T) @ (B, T, C) ➡️ (B, T, C)\n",
        "\n",
        "# check if xbow2 is the same as xbow\n",
        "print(torch.allclose(xbow, xbow2, atol = 1e-7))"
      ]
    },
    {
      "cell_type": "markdown",
      "metadata": {
        "id": "kXX4D4jM42L7"
      },
      "source": [
        "## 3.3- Using Softmax"
      ]
    },
    {
      "cell_type": "code",
      "execution_count": null,
      "metadata": {
        "colab": {
          "base_uri": "https://localhost:8080/"
        },
        "id": "EwsLcuGn42L7",
        "outputId": "2d3974df-14c4-4bd9-b981-eb0948519cd6"
      },
      "outputs": [
        {
          "output_type": "stream",
          "name": "stdout",
          "text": [
            "wei:\n",
            "tensor([[0., -inf, -inf, -inf, -inf, -inf, -inf, -inf],\n",
            "        [0., 0., -inf, -inf, -inf, -inf, -inf, -inf],\n",
            "        [0., 0., 0., -inf, -inf, -inf, -inf, -inf],\n",
            "        [0., 0., 0., 0., -inf, -inf, -inf, -inf],\n",
            "        [0., 0., 0., 0., 0., -inf, -inf, -inf],\n",
            "        [0., 0., 0., 0., 0., 0., -inf, -inf],\n",
            "        [0., 0., 0., 0., 0., 0., 0., -inf],\n",
            "        [0., 0., 0., 0., 0., 0., 0., 0.]])\n",
            "wei:\n",
            "tensor([[1.0000, 0.0000, 0.0000, 0.0000, 0.0000, 0.0000, 0.0000, 0.0000],\n",
            "        [0.5000, 0.5000, 0.0000, 0.0000, 0.0000, 0.0000, 0.0000, 0.0000],\n",
            "        [0.3333, 0.3333, 0.3333, 0.0000, 0.0000, 0.0000, 0.0000, 0.0000],\n",
            "        [0.2500, 0.2500, 0.2500, 0.2500, 0.0000, 0.0000, 0.0000, 0.0000],\n",
            "        [0.2000, 0.2000, 0.2000, 0.2000, 0.2000, 0.0000, 0.0000, 0.0000],\n",
            "        [0.1667, 0.1667, 0.1667, 0.1667, 0.1667, 0.1667, 0.0000, 0.0000],\n",
            "        [0.1429, 0.1429, 0.1429, 0.1429, 0.1429, 0.1429, 0.1429, 0.0000],\n",
            "        [0.1250, 0.1250, 0.1250, 0.1250, 0.1250, 0.1250, 0.1250, 0.1250]])\n",
            "True\n"
          ]
        }
      ],
      "source": [
        "tril = torch.tril(torch.ones(T, T))\n",
        "# we start with zeros, but later these will be replaced with data dependent values (affinities)\n",
        "wei = torch.zeros((T, T))\n",
        "# masked_fill: for all elements where tril == 0, replace with float(\"-inf\")\n",
        "wei = wei.masked_fill(tril == 0, float(\"-inf\"))\n",
        "print(f\"wei:\\n{wei}\")\n",
        "wei = F.softmax(wei, dim = -1)\n",
        "print(f\"wei:\\n{wei}\")\n",
        "xbow3 = wei @ x\n",
        "\n",
        "# check if xbow3 is the same as xbow\n",
        "print(torch.allclose(xbow, xbow3, atol = 1e-7))"
      ]
    },
    {
      "cell_type": "markdown",
      "metadata": {
        "id": "1XEYyYXQ42L8"
      },
      "source": [
        "# 4- Minor Code Cleanup\n",
        "(these modifications are done in `bigram.py`)\n"
      ]
    },
    {
      "cell_type": "markdown",
      "metadata": {
        "id": "qEiaXr3Z42L8"
      },
      "source": [
        "## 4.1- Adding variable embedding size\n",
        "1. removing vocab_size from the constructor of `BigramLanguageModel` class, since it's already defiend above\n",
        "2. Modifying the embedding layer to has an output size of `n_embed` instead of `vocab_size`\n",
        "3. Adding a linear layer with `vocab_size` outputs after the embedding layer"
      ]
    },
    {
      "cell_type": "code",
      "execution_count": null,
      "metadata": {
        "id": "bMBo_qry42L8"
      },
      "outputs": [],
      "source": [
        "class BigramLanguageModel(nn.Module):\n",
        "    # no need to pass vocab_size as an argument, since it is a global variable in this file\n",
        "    def __init__(self):\n",
        "        super().__init__()\n",
        "        # each token directly reads off the logits for the next token from a loockup table\n",
        "        self.token_embedding_table = nn.Embedding(vocab_size, n_embed)\n",
        "        # the output layer is a linear layer with vocab_size outputs\n",
        "        self.lm_head = nn.Linear(n_embed, vocab_size)\n",
        "\n",
        "    def forward(self, idx, targets = None):\n",
        "        # idx and targets are both (B, T) tensor of ints\n",
        "        token_emb = self.token_embedding_table(idx) # (B, T, C) = (4, 8 , vocab_size)\n",
        "        logits = self.lm_head(token_emb) # (B, T, vocab_size) = (4, 8, vocab_size)\n",
        "\n",
        "    # rest of the code .."
      ]
    },
    {
      "cell_type": "markdown",
      "metadata": {
        "id": "PjukBGCx42L8"
      },
      "source": [
        "## 4.2- Positional Encoding\n",
        "1. Adding a positional encoding layer to the model `self.position_embedding_table`\n",
        "2. Adding the positional encoding to the input embeddings `x = token_emb + pos_emb`"
      ]
    },
    {
      "cell_type": "code",
      "execution_count": null,
      "metadata": {
        "id": "RZEfzhFT42L9"
      },
      "outputs": [],
      "source": [
        "class BigramLanguageModel(nn.Module):\n",
        "    # no need to pass vocab_size as an argument, since it is a global variable in this file\n",
        "    def __init__(self):\n",
        "        super().__init__()\n",
        "        # each token directly reads off the logits for the next token from a loockup table\n",
        "        self.token_embedding_table = nn.Embedding(vocab_size, n_embed)\n",
        "        # each position is also associated with an embedding vector\n",
        "        self.position_embedding_table = nn.Embedding(block_size, n_embed)\n",
        "        # the output layer is a linear layer with vocab_size outputs\n",
        "        self.lm_head = nn.Linear(n_embed, vocab_size)\n",
        "\n",
        "    def forward(self, idx, targets = None):\n",
        "        B, T = idx.shape\n",
        "        # idx and targets are both (B, T) tensor of ints\n",
        "        token_emb = self.token_embedding_table(idx) # (B, T, C) = (4, 8 , vocab_size)\n",
        "        pos_emb = self.position_embedding_table(torch.arange(T, device = idx.device)) # (T, C) = (8, vocab_size)\n",
        "        # x has the token identities + the position embeddings\n",
        "        x = token_emb + pos_emb # (B, T, C) = (4, 8, vocab_size)\n",
        "        logits = self.lm_head(x) # (B, T, vocab_size) = (4, 8, vocab_size)\n",
        "\n",
        "    # rest of the code .."
      ]
    },
    {
      "cell_type": "markdown",
      "metadata": {
        "id": "VRXEu-UY42L9"
      },
      "source": [
        "# 5- Self Attention\n",
        "Consider his as `version 4 ` of part 3"
      ]
    },
    {
      "cell_type": "markdown",
      "metadata": {
        "id": "pokR7w3F42L-"
      },
      "source": [
        "## 5.1- Previous code from part 3"
      ]
    },
    {
      "cell_type": "code",
      "execution_count": null,
      "metadata": {
        "colab": {
          "base_uri": "https://localhost:8080/"
        },
        "id": "39w6-iNc42L-",
        "outputId": "3a13c723-a1ca-4dfc-d481-5080869f17ae"
      },
      "outputs": [
        {
          "output_type": "stream",
          "name": "stdout",
          "text": [
            "tril:\n",
            "tensor([[1., 0., 0., 0., 0., 0., 0., 0.],\n",
            "        [1., 1., 0., 0., 0., 0., 0., 0.],\n",
            "        [1., 1., 1., 0., 0., 0., 0., 0.],\n",
            "        [1., 1., 1., 1., 0., 0., 0., 0.],\n",
            "        [1., 1., 1., 1., 1., 0., 0., 0.],\n",
            "        [1., 1., 1., 1., 1., 1., 0., 0.],\n",
            "        [1., 1., 1., 1., 1., 1., 1., 0.],\n",
            "        [1., 1., 1., 1., 1., 1., 1., 1.]])\n",
            "wei:\n",
            "tensor([[1.0000, 0.0000, 0.0000, 0.0000, 0.0000, 0.0000, 0.0000, 0.0000],\n",
            "        [0.5000, 0.5000, 0.0000, 0.0000, 0.0000, 0.0000, 0.0000, 0.0000],\n",
            "        [0.3333, 0.3333, 0.3333, 0.0000, 0.0000, 0.0000, 0.0000, 0.0000],\n",
            "        [0.2500, 0.2500, 0.2500, 0.2500, 0.0000, 0.0000, 0.0000, 0.0000],\n",
            "        [0.2000, 0.2000, 0.2000, 0.2000, 0.2000, 0.0000, 0.0000, 0.0000],\n",
            "        [0.1667, 0.1667, 0.1667, 0.1667, 0.1667, 0.1667, 0.0000, 0.0000],\n",
            "        [0.1429, 0.1429, 0.1429, 0.1429, 0.1429, 0.1429, 0.1429, 0.0000],\n",
            "        [0.1250, 0.1250, 0.1250, 0.1250, 0.1250, 0.1250, 0.1250, 0.1250]])\n",
            "out.shape:\n",
            "torch.Size([4, 8, 32])\n"
          ]
        }
      ],
      "source": [
        "torch.manual_seed(1337)\n",
        "B, T, C = 4, 8, 32 # batch, time, channels\n",
        "x = torch.randn(B, T, C)\n",
        "\n",
        "tril = torch.tril(torch.ones(T, T))\n",
        "wei = torch.zeros((T, T))\n",
        "wei = wei.masked_fill(tril == 0, float(\"-inf\"))\n",
        "wei = F.softmax(wei, dim = -1)\n",
        "\n",
        "out = wei @ x\n",
        "\n",
        "print(f\"tril:\\n{tril}\")\n",
        "print(f\"wei:\\n{wei}\")\n",
        "print(f\"out.shape:\\n{out.shape}\")\n"
      ]
    },
    {
      "cell_type": "markdown",
      "metadata": {
        "id": "28bGzzWs42L-"
      },
      "source": [
        "## 5.2- Building the Self-Attention\n",
        "each token (can be called node too) at each position emmits 2 vectors:\n",
        "1. Query: What I'm looking for?\n",
        "2. Key: What do I contain?\n",
        "3. Value: What I will tell you or the information I have `in this head`?\n",
        "    \n",
        "- affinities between tokens `wei` = my Query @ all Keys\n",
        "- if key and query are aligned ➡️ high value ➡️ learn more about this sequence\n",
        "- instead of multiplying wei with tokens directly, we multiply it with values (which is the information we want to learn about)"
      ]
    },
    {
      "cell_type": "code",
      "execution_count": null,
      "metadata": {
        "colab": {
          "base_uri": "https://localhost:8080/"
        },
        "id": "8wK9Bjzs42L-",
        "outputId": "2cd19374-88cf-4550-b5f5-a41a75219d12"
      },
      "outputs": [
        {
          "output_type": "stream",
          "name": "stdout",
          "text": [
            "wei[0]: tensor([[1.0000, 0.0000, 0.0000, 0.0000, 0.0000, 0.0000, 0.0000, 0.0000],\n",
            "        [0.1574, 0.8426, 0.0000, 0.0000, 0.0000, 0.0000, 0.0000, 0.0000],\n",
            "        [0.2088, 0.1646, 0.6266, 0.0000, 0.0000, 0.0000, 0.0000, 0.0000],\n",
            "        [0.5792, 0.1187, 0.1889, 0.1131, 0.0000, 0.0000, 0.0000, 0.0000],\n",
            "        [0.0294, 0.1052, 0.0469, 0.0276, 0.7909, 0.0000, 0.0000, 0.0000],\n",
            "        [0.0176, 0.2689, 0.0215, 0.0089, 0.6812, 0.0019, 0.0000, 0.0000],\n",
            "        [0.1691, 0.4066, 0.0438, 0.0416, 0.1048, 0.2012, 0.0329, 0.0000],\n",
            "        [0.0210, 0.0843, 0.0555, 0.2297, 0.0573, 0.0709, 0.2423, 0.2391]],\n",
            "       grad_fn=<SelectBackward0>)\n"
          ]
        }
      ],
      "source": [
        "torch.manual_seed(1337)\n",
        "B, T, C = 4, 8, 32 # batch, time, channels\n",
        "\n",
        "# x is private information of each token\n",
        "x = torch.randn(B, T, C)\n",
        "\n",
        "# single Head perform self-attention\n",
        "head_size = 16\n",
        "key = nn.Linear(C, head_size, bias = False)\n",
        "query = nn.Linear(C, head_size, bias = False)\n",
        "value = nn.Linear(C, head_size, bias = False)\n",
        "\n",
        "\n",
        "k = key(x) # (B, T, head_size) = (4, 8, 16)\n",
        "q = query(x) # (B, T, head_size) = (4, 8, 16)\n",
        "\n",
        "# now every token in every batch is associated with a key and a query (in parallel), no communication between tokens has happened yet\n",
        "\n",
        "wei = q @ k.transpose(-2, -1) # (B, T, head_size) @ (B, head_size, T) = (B, T, T)\n",
        "tril = torch.tril(torch.ones(T, T))\n",
        "# wei are no longer zeros, but data dependent values (affinities)\n",
        "# wei = torch.zeros((T, T))\n",
        "wei = wei.masked_fill(tril == 0, float(\"-inf\"))\n",
        "wei = F.softmax(wei, dim = -1)\n",
        "\n",
        "print(f\"wei[0]: {wei[0]}\")\n",
        "\n",
        "# multiply with value instead of x\n",
        "v = value(x) # (B, T, head_size) = (4, 8, 16)\n",
        "out = wei @ v # (B, T, T) @ (B, T, head_size) = (B, T, head_size)\n",
        "# out = wei @ x\n"
      ]
    },
    {
      "cell_type": "markdown",
      "metadata": {
        "id": "9CjxHQCU42L-"
      },
      "source": [
        "## 5.3- Notes About Self Attention\n",
        "\n",
        "1. Attention is a **communication mechanism**. Can be seen as nodes in a directed graph looking at each other and aggregating information with a weighted sum from all nodes that point to them, with data-dependent weights.\n",
        "\n",
        "2. There is no notion of space. Attention simply acts over a set of vectors. **This is why we need to positionally encode tokens.**\n",
        "\n",
        "3. Each example across batch dimension is of course processed completely **independently** and **never \"talk\" to each other**\n",
        "\n",
        "4. In an `encoder` attention block just delete the single line that does masking with `tril`, **allowing all tokens to communicate**, it can be used for some applications like translation and sentiment analysis. This block here is called a \"decoder\" attention block because it has triangular masking, and is usually used in autoregressive settings, like **language modeling**.\n",
        "\n",
        "5. `self-attention` just means that the **keys** and **values** are **produced from the same source** as **queries**. In \"cross-attention\", the **queries** still get produced from **x**, but the **keys** and **values** come from some other, external source (e.g. an **encoder** module)\n",
        "\n",
        "6. `Scaled Dot-Product Attention`: $\\text{Attention}(Q, K, V) = \\text{softmax}\\left(\\frac{QK^T}{\\sqrt{d_k}}\\right)V$\n",
        "\n",
        "    `Scaled` attention additional divides `wei` by $\\frac{1}{\\sqrt{\\text{head\\_size}}}$. This makes it so when input `Q`, `K` are unit variance, `wei` will be **unit variance** too and Softmax will stay diffuse and **not saturate** too much. it's important especially in initialization.\n",
        "\n",
        "    if the **variance** is **very high**, **softmax** will **converge** to **one-hot vector**"
      ]
    },
    {
      "cell_type": "code",
      "execution_count": null,
      "metadata": {
        "colab": {
          "base_uri": "https://localhost:8080/"
        },
        "id": "E9o6_u8d42L_",
        "outputId": "135b966a-0ac8-437f-dad6-ffe7652bd744"
      },
      "outputs": [
        {
          "output_type": "stream",
          "name": "stdout",
          "text": [
            "Unscaled Attention\n",
            "var(k) = 1.044861912727356\n",
            "var(q) = 1.0700464248657227\n",
            "var(wei) = 17.46897315979004\n",
            "\n",
            "Scaled Attention\n",
            "var(k) = 1.044861912727356\n",
            "var(q) = 1.0700464248657227\n",
            "var(wei) = 1.0918108224868774\n"
          ]
        }
      ],
      "source": [
        "# Scaled Attention\n",
        "k = torch.randn(B, T, head_size)\n",
        "q = torch.randn(B, T, head_size)\n",
        "\n",
        "print(\"Unscaled Attention\")\n",
        "wei = q @ k.transpose(-2, -1)\n",
        "print(f\"var(k) = {torch.var(k)}\")\n",
        "print(f\"var(q) = {torch.var(q)}\")\n",
        "print(f\"var(wei) = {torch.var(wei)}\")\n",
        "\n",
        "print(\"\\nScaled Attention\")\n",
        "wei = q @ k.transpose(-2, -1) * (head_size ** -0.5)\n",
        "print(f\"var(k) = {torch.var(k)}\")\n",
        "print(f\"var(q) = {torch.var(q)}\")\n",
        "print(f\"var(wei) = {torch.var(wei)}\")"
      ]
    },
    {
      "cell_type": "markdown",
      "metadata": {
        "id": "aUpKJwqY42L_"
      },
      "source": [
        "## 5.4- Adding single Self Attention Head to the Bigram Language Model"
      ]
    },
    {
      "cell_type": "markdown",
      "metadata": {
        "id": "n-f8j8dV42L_"
      },
      "source": [
        "### 5.4.1- Making new `Head` class"
      ]
    },
    {
      "cell_type": "code",
      "execution_count": null,
      "metadata": {
        "id": "c9P-JWGm42L_"
      },
      "outputs": [],
      "source": [
        "# Making the Head Class\n",
        "class Head(nn.Module):\n",
        "    \"\"\" one head of self attention \"\"\"\n",
        "\n",
        "    def __init__(self, head_size):\n",
        "        super().__init__()\n",
        "        self.key = nn.Linear(n_embed, head_size, bias = False)\n",
        "        self.query = nn.Linear(n_embed, head_size, bias = False)\n",
        "        self.value = nn.Linear(n_embed, head_size, bias = False)\n",
        "        # since tril isn't a parameter, we register it as a buffer\n",
        "        self.register_buffer(\"tril\", torch.tril(torch.ones(block_size, block_size)))\n",
        "\n",
        "    def forward(self, x):\n",
        "        B, T, C = x.shape\n",
        "        k = self.key(x) # (B, T, C)\n",
        "        q = self.query(x) # (B, T, C)\n",
        "\n",
        "        # compute attention scores (affinities)\n",
        "        wei = q @ k.transpose(-2, -1) * (C ** -0.5) # (B, T, C) @ (B, C, T) = (B, T, T)\n",
        "        wei = wei.masked_fill(self.tril[:T, :T] == 0 , float(\"-inf\")) # (B, T, T)\n",
        "        wei = F.softmax(wei, dim = -1) # (B, T, T)\n",
        "\n",
        "        # perform weighted aggregation of the values\n",
        "        v = self.value(x) # (B, T, C)\n",
        "        out = wei @ v # (B, T, T) @ (B, T, C) = (B, T, C)\n",
        "        return out"
      ]
    },
    {
      "cell_type": "markdown",
      "metadata": {
        "id": "OdKE7WUe42L_"
      },
      "source": [
        "### 5.4.2- Modifying `BigramLanguageModel` class\n",
        "1. Adding `Head` to the `BigramLanguageModel` class\n",
        "2. Adding `Head` to the `BigramLanguageModel` forward pass\n",
        "3. for `generate` function, we need crop idx to keep `idx.shape <= block_size`, since we are using `positional embedding`"
      ]
    },
    {
      "cell_type": "code",
      "execution_count": null,
      "metadata": {
        "id": "LmSvVr0n42L_"
      },
      "outputs": [],
      "source": [
        "# Adding Head to the BigramLanguageModel\n",
        "\n",
        "# super simple bigram model\n",
        "class BigramLanguageModel(nn.Module):\n",
        "    # no need to pass vocab_size as an argument, since it is a global variable in this file\n",
        "    def __init__(self):\n",
        "        super().__init__()\n",
        "        # each token directly reads off the logits for the next token from a loockup table\n",
        "        self.token_embedding_table = nn.Embedding(vocab_size, n_embed)\n",
        "        # each position is also associated with an embedding vector\n",
        "        self.position_embedding_table = nn.Embedding(block_size, n_embed)\n",
        "        # a single head of self attention\n",
        "        self.sa_head = Head(n_embed)\n",
        "        # the output layer is a linear layer with vocab_size outputs\n",
        "        self.lm_head = nn.Linear(n_embed, vocab_size)\n",
        "\n",
        "    def forward(self, idx, targets = None):\n",
        "        B, T = idx.shape\n",
        "        # idx and targets are both (B, T) tensor of ints\n",
        "        token_emb = self.token_embedding_table(idx) # (B, T, C) = (4, 8 , vocab_size)\n",
        "        pos_emb = self.position_embedding_table(torch.arange(T, device = idx.device)) # (T, C) = (8, vocab_size)\n",
        "        # x has the token identities + the position embeddings\n",
        "        x = token_emb + pos_emb # (B, T, C) = (4, 8, vocab_size)\n",
        "        # feed the input to the self attention head\n",
        "        x = self.sa_head(x) # (B, T, C) = (4, 8, vocab_size)\n",
        "        logits = self.lm_head(x) # (B, T, vocab_size) = (4, 8, vocab_size)\n",
        "\n",
        "        if targets is None:\n",
        "            loss = None\n",
        "        else:\n",
        "            # note that F.cross_entropy accepts inputs in shape (B, C, T)\n",
        "            B, T, C = logits.shape\n",
        "            logits = logits.view(B * T, C)\n",
        "            targets = targets.view(B * T) # can be as targets = targets.view(-1)\n",
        "\n",
        "            loss = F.cross_entropy(logits, targets)\n",
        "\n",
        "        return logits, loss\n",
        "\n",
        "    def generate(self, idx, max_new_tokens):\n",
        "        # idx is (B, T) array of indices in the current context\n",
        "        for _ in range(max_new_tokens):\n",
        "            # crop idx to the last block_size tokens\n",
        "            idx_cond = idx[:, -block_size:] # (B, T)\n",
        "            # get the logits for the next token\n",
        "            logits, loss = self(idx_cond)\n",
        "            # focus only on the last time step\n",
        "            # (note that we are feeding the whole context each time, however we only care about the last prediction)\n",
        "            # (this make doesn't make sense now, but the function will be modified later)\n",
        "            logits = logits[:, -1, :] # Becomes (B, C) (get the last time step for each sequence)\n",
        "            # apply softmax to convert to probabilities\n",
        "            probs = F.softmax(logits, dim = -1) # (B, C)\n",
        "            # sample from the distribution\n",
        "            idx_next = torch.multinomial(probs, num_samples=1) # (B, 1)\n",
        "            # append sampled token to the context\n",
        "            idx = torch.cat((idx, idx_next), dim = 1) # (B, T + 1)\n",
        "        return idx"
      ]
    },
    {
      "cell_type": "markdown",
      "metadata": {
        "id": "OqH-HcmI42L_"
      },
      "source": [
        "### 5.4.3- Testing\n",
        "(loss is `2.54` instead of `2.57`)"
      ]
    },
    {
      "cell_type": "markdown",
      "metadata": {
        "id": "J9ROqpzV42MA"
      },
      "source": [
        "## 5.5- Multi-Head Attention\n",
        "- make the new `MultiHeadAttention` class"
      ]
    },
    {
      "cell_type": "code",
      "execution_count": null,
      "metadata": {
        "id": "_yOopy7a42MA"
      },
      "outputs": [],
      "source": [
        "class MultiHeadAttention(nn.Module):\n",
        "    \"\"\" multiple heads of self-attention in parallel \"\"\"\n",
        "\n",
        "    def __init__(self, num_head, head_size):\n",
        "        super().__init__()\n",
        "        self.heads = nn.ModuleList([Head(head_size) for _ in range(num_head)])\n",
        "\n",
        "    def forward(self, x):\n",
        "        # concatenate them into the channel dimension\n",
        "        return torch.cat([h(x) for h in self.heads], dim = -1)"
      ]
    },
    {
      "cell_type": "markdown",
      "metadata": {
        "id": "RqkS71K742MA"
      },
      "source": [
        "then add it to `BigramLanguageModel` class\n",
        "\n",
        "previously:\n",
        "```python\n",
        "self.sa_head = Head(n_embed)\n",
        "```\n",
        "now:\n",
        "```python\n",
        "self.sa_heads = MultiHeadAttention(num_head = 4, head_size = n_embed // 4)\n",
        "```"
      ]
    },
    {
      "cell_type": "markdown",
      "metadata": {
        "id": "3-93FNeH42MA"
      },
      "source": [
        "### 5.5.1- Testing\n",
        "(loss is `2.51` instead of `2.54`)"
      ]
    },
    {
      "cell_type": "markdown",
      "metadata": {
        "id": "O5wiQFOX42MA"
      },
      "source": [
        "# 6- Adding FeedForward Layer\n",
        "the feedforward is applied to each token independently"
      ]
    },
    {
      "cell_type": "code",
      "execution_count": null,
      "metadata": {
        "id": "IeWhT8Zx42MA"
      },
      "outputs": [],
      "source": [
        "class FeedForward(nn.Module):\n",
        "    \"\"\" a simple linear layer followed by a non-linearity \"\"\"\n",
        "    def __init__(self, n_embed):\n",
        "        super().__init__()\n",
        "        self.net = nn.Sequential(\n",
        "            nn.Linear(n_embed, n_embed),\n",
        "            nn.ReLU(),\n",
        "        )\n",
        "\n",
        "    def forward(self, x):\n",
        "        return self.net(x)"
      ]
    },
    {
      "cell_type": "markdown",
      "metadata": {
        "id": "JEFSZr2c42MB"
      },
      "source": [
        "# then add it to forward of the BigramLanguageModel\n",
        "``` python\n",
        "# previous code ..\n",
        "x = self.sa_heads(x) # (B, T, C) = (4, 8, vocab_size)\n",
        "# feed the output of the self attention head to the feed forward layer\n",
        "x = self.ff(x) # (B, T, C) = (4, 8, vocab_size)\n",
        "logits = self.lm_head(x) # (B, T, vocab_size) = (4, 8, vocab_size)\n",
        "# rest of the code ..\n",
        "```"
      ]
    },
    {
      "cell_type": "markdown",
      "metadata": {
        "id": "3PW7aOGh42MB"
      },
      "source": [
        "## 6.1- Test\n",
        "(loss is `2.46` instead of `2.51`)"
      ]
    },
    {
      "cell_type": "markdown",
      "metadata": {
        "id": "gaQg9VhM42MB"
      },
      "source": [
        "# 7- Residual Connections"
      ]
    },
    {
      "cell_type": "markdown",
      "metadata": {
        "id": "Nh9rfEHe42MB"
      },
      "source": [
        "## 7.1 Stacking the Blocks"
      ]
    },
    {
      "cell_type": "code",
      "execution_count": null,
      "metadata": {
        "id": "8fbcKizy42MB"
      },
      "outputs": [],
      "source": [
        "class Block(nn.Module):\n",
        "    \"\"\" Transformer Block: Communication followed by Computation \"\"\"\n",
        "\n",
        "    def __init__(self, n_embed, n_head):\n",
        "        \"\"\" n_embed: embedding dimension\n",
        "            n_head: number of heads in the multi-head attention\n",
        "        \"\"\"\n",
        "        super().__init__()\n",
        "        head_size = n_embed // n_head\n",
        "        self.sa = MultiHeadAttention(n_head, head_size)\n",
        "        self.ffwd = FeedForward(n_embed)\n",
        "\n",
        "    def forward(self, x):\n",
        "        x = self.sa(x)\n",
        "        x = self.ffwd(x)\n",
        "        return x"
      ]
    },
    {
      "cell_type": "markdown",
      "metadata": {
        "id": "cbWZENsf42MB"
      },
      "source": [
        "``` python\n",
        "# previous code ..\n",
        "# each token directly reads off the logits for the next token from a loockup table\n",
        "self.token_embedding_table = nn.Embedding(vocab_size, n_embed)\n",
        "# each position is also associated with an embedding vector\n",
        "self.position_embedding_table = nn.Embedding(block_size, n_embed)\n",
        "# transformer blocks\n",
        "self.blocks = nn.Sequential(\n",
        "        Block(n_embed, n_head = 4),\n",
        "        Block(n_embed, n_head = 4),\n",
        "        Block(n_embed, n_head = 4),\n",
        ")\n",
        "self.lm_head = nn.Linear(n_embed, vocab_size)\n",
        "# rest of the code ..\n",
        "```\n",
        "\n",
        "add them in the forward pass\n",
        "``` python\n",
        "# previous code ..\n",
        "x = token_emb + pos_emb # (B, T, C) = (4, 8, vocab_size)\n",
        "# feed the input to the self attention head\n",
        "x = self.blocks(x) # (B, T, C) = (4, 8, vocab_size)\n",
        "logits = self.lm_head(x) # (B, T, vocab_size) = (4, 8, vocab_size)\n",
        "# rest of the code ..\n",
        "```"
      ]
    },
    {
      "cell_type": "markdown",
      "metadata": {
        "id": "yf4xHvkk42MB"
      },
      "source": [
        "### 7.1.1 Test\n",
        "(loss is `2.81` instead of `2.46`) ➡️ **WORSE**"
      ]
    },
    {
      "cell_type": "markdown",
      "metadata": {
        "id": "5FAjWgLa42MC"
      },
      "source": [
        "## 7.2 - Adding Residual Connections (Skip Connections)"
      ]
    },
    {
      "cell_type": "markdown",
      "metadata": {
        "id": "i4KqxrbH42MC"
      },
      "source": [
        "### 7.2.1- Transformer Block"
      ]
    },
    {
      "cell_type": "code",
      "execution_count": null,
      "metadata": {
        "id": "5PNIyUX042MC"
      },
      "outputs": [],
      "source": [
        "class Block(nn.Module):\n",
        "    \"\"\" Transformer Block: Communication followed by Computation \"\"\"\n",
        "\n",
        "    def __init__(self, n_embed, n_head):\n",
        "        \"\"\" n_embed: embedding dimension\n",
        "            n_head: number of heads in the multi-head attention\n",
        "        \"\"\"\n",
        "        super().__init__()\n",
        "        head_size = n_embed // n_head\n",
        "        self.sa = MultiHeadAttention(n_head, head_size)\n",
        "        self.ffwd = FeedForward(n_embed)\n",
        "\n",
        "    def forward(self, x):\n",
        "        # residual connection (add the input to the output)\n",
        "        x = x + self.sa(x)\n",
        "        x = x + self.ffwd(x)\n",
        "        return x"
      ]
    },
    {
      "cell_type": "markdown",
      "metadata": {
        "id": "Z6ljumU542MC"
      },
      "source": [
        "### 7.2.2- Multi-Head Attention"
      ]
    },
    {
      "cell_type": "code",
      "execution_count": null,
      "metadata": {
        "id": "rcx3BtUH42MC"
      },
      "outputs": [],
      "source": [
        "# Multi Head Attention Class\n",
        "class MultiHeadAttention(nn.Module):\n",
        "    \"\"\" multiple heads of self-attention in parallel \"\"\"\n",
        "\n",
        "    def __init__(self, num_head, head_size):\n",
        "        super().__init__()\n",
        "        self.heads = nn.ModuleList([Head(head_size) for _ in range(num_head)])\n",
        "        # linear transformation to the output of the multi-head attention as projection back to the residual pathway\n",
        "        self.proj = nn.Linear(n_embed, n_embed)\n",
        "\n",
        "    def forward(self, x):\n",
        "        # out is the outptu of the multi-head attention\n",
        "        out =  torch.cat([h(x) for h in self.heads], dim = -1)\n",
        "        # apply a linear layer to the concatenated output\n",
        "        out = self.proj(out)\n",
        "        return out"
      ]
    },
    {
      "cell_type": "markdown",
      "metadata": {
        "id": "FfUSsIuz42MC"
      },
      "source": [
        "### 7.2.3- FeedForward Layer"
      ]
    },
    {
      "cell_type": "code",
      "execution_count": null,
      "metadata": {
        "id": "bi01Zfug42MC"
      },
      "outputs": [],
      "source": [
        "# Feed Forward Class\n",
        "class FeedForward(nn.Module):\n",
        "    \"\"\" a simple linear layer followed by a non-linearity \"\"\"\n",
        "    def __init__(self, n_embed):\n",
        "        super().__init__()\n",
        "        self.net = nn.Sequential(\n",
        "            # multiply by 4 to follow the original implementation\n",
        "            nn.Linear(n_embed, 4 * n_embed),\n",
        "            nn.ReLU(),\n",
        "            nn.Linear(n_embed * 4, n_embed),\n",
        "        )\n",
        "\n",
        "    def forward(self, x):\n",
        "        return self.net(x)"
      ]
    },
    {
      "cell_type": "markdown",
      "metadata": {
        "id": "-HszTKtM42MC"
      },
      "source": [
        "### 7.2.4 Test\n",
        "(loss is `2.33` instead of `2.81` and `2.46` before it)"
      ]
    },
    {
      "cell_type": "markdown",
      "metadata": {
        "id": "_LW42_UI42MC"
      },
      "source": [
        "# 8- LayerNorm"
      ]
    },
    {
      "cell_type": "markdown",
      "metadata": {
        "id": "9Tp9KZRV42MC"
      },
      "source": [
        "## 8.1- BatchNorm1d from makemore part 3"
      ]
    },
    {
      "cell_type": "code",
      "execution_count": null,
      "metadata": {
        "colab": {
          "base_uri": "https://localhost:8080/"
        },
        "id": "i4_t7bQN42MD",
        "outputId": "7b4e5727-6edb-499f-b272-7bd1ac77cd54"
      },
      "outputs": [
        {
          "output_type": "stream",
          "name": "stdout",
          "text": [
            "mean of first column: 0.0000 | std of first column: 1.0000\n",
            "mean of first row: 0.0411 | std of first row: 1.0431\n"
          ]
        }
      ],
      "source": [
        "class BatchNorm1d:\n",
        "    def __init__(self, dim, eps=1e-5, momentum = 0.1):\n",
        "        self.eps = eps\n",
        "        self.momentum = momentum\n",
        "        self.training = True\n",
        "\n",
        "        # parameters (trained with backprop)\n",
        "        self.gamma = torch.ones(dim)\n",
        "        self.beta = torch.zeros(dim)\n",
        "\n",
        "        # buffers (trained while running `momentum update`)\n",
        "        self.running_mean = torch.zeros(dim)\n",
        "        self.running_var = torch.ones(dim)\n",
        "\n",
        "    def __call__(self, x):\n",
        "        if self.training:\n",
        "            # batch mean\n",
        "            xmean = x.mean(0, keepdim= True)\n",
        "            # batch variance\n",
        "            xvar = x.var(0, keepdim= True)\n",
        "        else:\n",
        "            xmean = self.running_mean\n",
        "            xvar = self.running_var\n",
        "\n",
        "        xhat = (x - xmean) / torch.sqrt(xvar + self.eps)\n",
        "        self.out = self.gamma * xhat + self.beta\n",
        "\n",
        "        # update the buffers in training\n",
        "        if self.training:\n",
        "            with torch.no_grad():\n",
        "                self.running_mean = (1 - self.momentum) * self.running_mean + self.momentum * xmean\n",
        "                self.running_var = (1 - self.momentum) * self.running_var + self.momentum * xvar\n",
        "\n",
        "        return self.out\n",
        "\n",
        "    def parameters(self):\n",
        "        return [self.gamma, self.beta]\n",
        "\n",
        "torch.manual_seed(1337)\n",
        "module = BatchNorm1d(100)\n",
        "x = torch.randn(32, 100)\n",
        "x = module(x)\n",
        "x.shape\n",
        "\n",
        "# columns are normalized\n",
        "print(f\"mean of first column: {x[:, 0].mean():.4f} | std of first column: {x[:, 0].std():.4f}\")\n",
        "# rows are not normalized ➡️ we need to normalize the rows instead\n",
        "print(f\"mean of first row: {x[0, :].mean():.4f} | std of first row: {x[0, :].std():.4f}\")"
      ]
    },
    {
      "cell_type": "code",
      "execution_count": null,
      "metadata": {
        "colab": {
          "base_uri": "https://localhost:8080/"
        },
        "id": "br3QClp442MD",
        "outputId": "05f6eb68-6f43-4baa-d6ce-60031b1be9db"
      },
      "outputs": [
        {
          "output_type": "stream",
          "name": "stdout",
          "text": [
            "mean of first column: 0.1469 | std of first column: 0.8803\n",
            "mean of first row: -0.0000 | std of first row: 1.0000\n"
          ]
        }
      ],
      "source": [
        "# after normalizing the rows (and removing the buffers too)\n",
        "class BatchNorm1d:\n",
        "    def __init__(self, dim, eps=1e-5, momentum = 0.1):\n",
        "        self.eps = eps\n",
        "        self.gamma = torch.ones(dim)\n",
        "        self.beta = torch.zeros(dim)\n",
        "\n",
        "    def __call__(self, x):\n",
        "        xmean = x.mean(1, keepdim= True)\n",
        "        xvar = x.var(1, keepdim= True)\n",
        "        xhat = (x - xmean) / torch.sqrt(xvar + self.eps)\n",
        "        self.out = self.gamma * xhat + self.beta\n",
        "        return self.out\n",
        "\n",
        "    def parameters(self):\n",
        "        return [self.gamma, self.beta]\n",
        "\n",
        "torch.manual_seed(1337)\n",
        "module = BatchNorm1d(100)\n",
        "x = torch.randn(32, 100)\n",
        "x = module(x)\n",
        "x.shape\n",
        "\n",
        "# columns are not normalized now\n",
        "print(f\"mean of first column: {x[:, 0].mean():.4f} | std of first column: {x[:, 0].std():.4f}\")\n",
        "# rows are normalized now\n",
        "print(f\"mean of first row: {x[0, :].mean():.4f} | std of first row: {x[0, :].std():.4f}\")"
      ]
    },
    {
      "cell_type": "markdown",
      "metadata": {
        "id": "lO04IdXD42MD"
      },
      "source": [
        "## 8.2- Adding LayerNorm"
      ]
    },
    {
      "cell_type": "markdown",
      "metadata": {
        "id": "iKbN7BLV42MD"
      },
      "source": [
        "### 8.2.1- in the transformer blocks"
      ]
    },
    {
      "cell_type": "code",
      "execution_count": null,
      "metadata": {
        "id": "Uad6oKpZ42MD"
      },
      "outputs": [],
      "source": [
        "class Block(nn.Module):\n",
        "    \"\"\" Transformer Block: Communication followed by Computation \"\"\"\n",
        "\n",
        "    def __init__(self, n_embed, n_head):\n",
        "        \"\"\" n_embed: embedding dimension\n",
        "            n_head: number of heads in the multi-head attention\n",
        "        \"\"\"\n",
        "        super().__init__()\n",
        "        head_size = n_embed // n_head\n",
        "        self.sa = MultiHeadAttention(n_head, head_size)\n",
        "        self.ffwd = FeedForward(n_embed)\n",
        "        # ln1 is applied directly on input before the multi-head attention\n",
        "        self.ln1 = nn.LayerNorm(n_embed)\n",
        "        # ln2 is applied directly on the output of the multi-head attention before the feed-forward layer\n",
        "        self.ln2 = nn.LayerNorm(n_embed)\n",
        "\n",
        "    def forward(self, x):\n",
        "        # residual connection (add the input to the output)\n",
        "        x = x + self.sa(self.ln1(x))\n",
        "        x = x + self.ffwd(self.ln2(x))\n",
        "        return x"
      ]
    },
    {
      "cell_type": "markdown",
      "metadata": {
        "id": "xrIsJjEL42MD"
      },
      "source": [
        "### 8.2.1- after all blocks (before last linear layer)"
      ]
    },
    {
      "cell_type": "code",
      "execution_count": null,
      "metadata": {
        "id": "ZZ93bFcE42MD"
      },
      "outputs": [],
      "source": [
        "class BigramLanguageModel(nn.Module):\n",
        "    # no need to pass vocab_size as an argument, since it is a global variable in this file\n",
        "    def __init__(self):\n",
        "        super().__init__()\n",
        "        # each token directly reads off the logits for the next token from a loockup table\n",
        "        self.token_embedding_table = nn.Embedding(vocab_size, n_embed)\n",
        "        # each position is also associated with an embedding vector\n",
        "        self.position_embedding_table = nn.Embedding(block_size, n_embed)\n",
        "        # transformer blocks\n",
        "        self.blocks = nn.Sequential(\n",
        "                Block(n_embed, n_head = 4),\n",
        "                Block(n_embed, n_head = 4),\n",
        "                Block(n_embed, n_head = 4),\n",
        "                # add layernorm here\n",
        "                nn.LayerNorm(n_embed),\n",
        "        )\n",
        "        self.lm_head = nn.Linear(n_embed, vocab_size)"
      ]
    },
    {
      "cell_type": "markdown",
      "metadata": {
        "id": "kBtWWdNJ42MD"
      },
      "source": [
        "# 9- Scaling up the model"
      ]
    },
    {
      "cell_type": "markdown",
      "metadata": {
        "id": "QUBEsBQY42MD"
      },
      "source": [
        "## 9.1- Adding `n_layer` variable"
      ]
    },
    {
      "cell_type": "code",
      "execution_count": null,
      "metadata": {
        "id": "-uyLCWZX42MD"
      },
      "outputs": [],
      "source": [
        "# super simple bigram model\n",
        "class BigramLanguageModel(nn.Module):\n",
        "    # no need to pass vocab_size as an argument, since it is a global variable in this file\n",
        "    def __init__(self):\n",
        "        super().__init__()\n",
        "        # each token directly reads off the logits for the next token from a loockup table\n",
        "        self.token_embedding_table = nn.Embedding(vocab_size, n_embed)\n",
        "        # each position is also associated with an embedding vector\n",
        "        self.position_embedding_table = nn.Embedding(block_size, n_embed)\n",
        "        # transformer blocks\n",
        "        self.blocks = nn.Sequential(*[Block(n_embed, n_head = 4) for _ in range(n_layer)])\n",
        "        # Remember to add it in forward too\n",
        "        self.ln_f = nn.LayerNorm(n_embed)\n",
        "        self.lm_head = nn.Linear(n_embed, vocab_size)"
      ]
    },
    {
      "cell_type": "markdown",
      "metadata": {
        "id": "TkE2XUwR42ME"
      },
      "source": [
        "## 9.2- Adding Dropouts\n",
        "- in `Head` after calculating `wei`\n",
        "- in `MultiHeadAttention` after `self.proj`\n",
        "- in `FeedForward` after last linear"
      ]
    }
  ],
  "metadata": {
    "kernelspec": {
      "display_name": "main",
      "language": "python",
      "name": "python3"
    },
    "language_info": {
      "codemirror_mode": {
        "name": "ipython",
        "version": 3
      },
      "file_extension": ".py",
      "mimetype": "text/x-python",
      "name": "python",
      "nbconvert_exporter": "python",
      "pygments_lexer": "ipython3",
      "version": "3.11.3"
    },
    "orig_nbformat": 4,
    "colab": {
      "provenance": [],
      "include_colab_link": true
    }
  },
  "nbformat": 4,
  "nbformat_minor": 0
}