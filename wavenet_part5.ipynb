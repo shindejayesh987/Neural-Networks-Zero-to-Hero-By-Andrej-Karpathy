{
  "cells": [
    {
      "cell_type": "markdown",
      "metadata": {
        "id": "view-in-github",
        "colab_type": "text"
      },
      "source": [
        "<a href=\"https://colab.research.google.com/github/shindejayesh987/Neural-Networks-Zero-to-Hero-By-Andrej-Karpathy/blob/main/wavenet_part5.ipynb\" target=\"_parent\"><img src=\"https://colab.research.google.com/assets/colab-badge.svg\" alt=\"Open In Colab\"/></a>"
      ]
    },
    {
      "cell_type": "code",
      "execution_count": null,
      "metadata": {
        "id": "6xzz6ts_Ks-S"
      },
      "outputs": [],
      "source": [
        "import torch\n",
        "import torch.nn.functional as F\n",
        "import matplotlib.pyplot as plt\n",
        "import math"
      ]
    },
    {
      "cell_type": "markdown",
      "metadata": {
        "id": "ytEFZQAtKs-U"
      },
      "source": [
        "# 1- Starter Code"
      ]
    },
    {
      "cell_type": "code",
      "execution_count": null,
      "metadata": {
        "colab": {
          "base_uri": "https://localhost:8080/"
        },
        "id": "mIaTXQyTKs-V",
        "outputId": "a85b3170-cafc-4505-f8f7-3822740dcc7d"
      },
      "outputs": [
        {
          "output_type": "stream",
          "name": "stdout",
          "text": [
            "['emma', 'olivia', 'ava', 'isabella', 'sophia', 'charlotte', 'mia', 'amelia']\n",
            "32033\n"
          ]
        }
      ],
      "source": [
        "words = open(\"/content/names.txt\", \"r\").read().splitlines()\n",
        "print(words[:8])\n",
        "print(len(words))"
      ]
    },
    {
      "cell_type": "code",
      "execution_count": null,
      "metadata": {
        "colab": {
          "base_uri": "https://localhost:8080/"
        },
        "id": "2SU-XdyGKs-W",
        "outputId": "2001bc24-e4fb-492c-9004-2112f26c0934"
      },
      "outputs": [
        {
          "output_type": "stream",
          "name": "stdout",
          "text": [
            "{1: 'a', 2: 'b', 3: 'c', 4: 'd', 5: 'e', 6: 'f', 7: 'g', 8: 'h', 9: 'i', 10: 'j', 11: 'k', 12: 'l', 13: 'm', 14: 'n', 15: 'o', 16: 'p', 17: 'q', 18: 'r', 19: 's', 20: 't', 21: 'u', 22: 'v', 23: 'w', 24: 'x', 25: 'y', 26: 'z', 0: '.'}\n",
            "27\n"
          ]
        }
      ],
      "source": [
        "chars = sorted(list(set(\"\".join(words))))\n",
        "stoi = {s: i + 1 for i, s in enumerate(chars)}\n",
        "stoi[\".\"] = 0\n",
        "itos = {i: s for s, i in stoi.items()}\n",
        "vocab_size = len(stoi)\n",
        "\n",
        "print(itos)\n",
        "print(vocab_size)"
      ]
    },
    {
      "cell_type": "code",
      "execution_count": null,
      "metadata": {
        "colab": {
          "base_uri": "https://localhost:8080/"
        },
        "id": "cWMYVMEkKs-X",
        "outputId": "d089b473-74c4-459a-9f3f-0fc95f45814d"
      },
      "outputs": [
        {
          "output_type": "stream",
          "name": "stdout",
          "text": [
            "torch.Size([182625, 3]) torch.Size([182625])\n",
            "torch.Size([22655, 3]) torch.Size([22655])\n",
            "torch.Size([22866, 3]) torch.Size([22866])\n"
          ]
        }
      ],
      "source": [
        "import random\n",
        "block_size = 3\n",
        "\n",
        "\n",
        "def build_dataset(words):\n",
        "\n",
        "    X, Y = [], []\n",
        "\n",
        "    for w in words:\n",
        "\n",
        "        context = [0] * block_size\n",
        "        for ch in w + '.':\n",
        "\n",
        "            ix = stoi[ch]\n",
        "\n",
        "            X.append(context)\n",
        "            Y.append(ix)\n",
        "\n",
        "            context = context[1:] + [ix]\n",
        "\n",
        "    X = torch.tensor(X)\n",
        "    Y = torch.tensor(Y)\n",
        "    print(X.shape, Y.shape)\n",
        "    return X, Y\n",
        "\n",
        "\n",
        "random.seed(42)\n",
        "random.shuffle(words)\n",
        "n1 = int(0.8*len(words))\n",
        "n2 = int(0.9*len(words))\n",
        "\n",
        "Xtr, Ytr = build_dataset(words[:n1])\n",
        "Xdev, Ydev = build_dataset(words[n1:n2])\n",
        "Xte, Yte = build_dataset(words[n2:])"
      ]
    },
    {
      "cell_type": "code",
      "execution_count": null,
      "metadata": {
        "colab": {
          "base_uri": "https://localhost:8080/"
        },
        "id": "13d8PBn9Ks-X",
        "outputId": "ec5bdfe4-50ac-4710-b186-867aaae516cc"
      },
      "outputs": [
        {
          "output_type": "stream",
          "name": "stdout",
          "text": [
            "... ----> y\n",
            "..y ----> u\n",
            ".yu ----> h\n",
            "yuh ----> e\n",
            "uhe ----> n\n",
            "hen ----> g\n",
            "eng ----> .\n",
            "... ----> d\n",
            "..d ----> i\n",
            ".di ----> o\n",
            "dio ----> n\n",
            "ion ----> d\n",
            "ond ----> r\n",
            "ndr ----> e\n",
            "dre ----> .\n"
          ]
        }
      ],
      "source": [
        "for x, y in zip(Xtr[:15], Ytr[:15]):\n",
        "    print(\"\".join(itos[ix.item()] for ix in x), \"---->\", itos[y.item()])"
      ]
    },
    {
      "cell_type": "code",
      "execution_count": null,
      "metadata": {
        "id": "4yyGNLf3Ks-X"
      },
      "outputs": [],
      "source": [
        "# Layers made in part 3\n",
        "class Linear:\n",
        "    def __init__(self, fan_in, fan_out, bias=True):\n",
        "        self.weight = torch.randn((fan_in, fan_out))\n",
        "        self.weight /= fan_in ** 0.5\n",
        "        self.bias = torch.zeros((fan_out)) if bias else None\n",
        "\n",
        "    def __call__(self, x):\n",
        "        self.out = x @ self.weight\n",
        "        if self.bias is not None:\n",
        "            self.out += self.bias\n",
        "        return self.out\n",
        "\n",
        "    def parameters(self):\n",
        "        return [self.weight] + ([] if self.bias is None else [self.bias])\n",
        "\n",
        "\n",
        "class BatchNorm1d:\n",
        "    def __init__(self, dim, eps=1e-5, momentum=0.1):\n",
        "        self.eps = eps\n",
        "        self.momentum = momentum\n",
        "        self.training = True\n",
        "\n",
        "        # parameters (trained with backprop)\n",
        "        self.gamma = torch.ones(dim)\n",
        "        self.beta = torch.zeros(dim)\n",
        "\n",
        "        # buffers (trained while running `momentum update`)\n",
        "        self.running_mean = torch.zeros(dim)\n",
        "        self.running_var = torch.ones(dim)\n",
        "\n",
        "    def __call__(self, x):\n",
        "        if self.training:\n",
        "            # batch mean\n",
        "            xmean = x.mean(0, keepdim=True)\n",
        "            # batch variance\n",
        "            xvar = x.var(0, keepdim=True)\n",
        "        else:\n",
        "            xmean = self.running_mean\n",
        "            xvar = self.running_var\n",
        "\n",
        "        xhat = (x - xmean) / torch.sqrt(xvar + self.eps)\n",
        "        self.out = self.gamma * xhat + self.beta\n",
        "\n",
        "        # update the buffers in training\n",
        "        if self.training:\n",
        "            with torch.no_grad():\n",
        "                self.running_mean = (1 - self.momentum) * \\\n",
        "                    self.running_mean + self.momentum * xmean\n",
        "                self.running_var = (1 - self.momentum) * \\\n",
        "                    self.running_var + self.momentum * xvar\n",
        "\n",
        "        return self.out\n",
        "\n",
        "    def parameters(self):\n",
        "        return [self.gamma, self.beta]\n",
        "\n",
        "\n",
        "class Tanh:\n",
        "    def __call__(self, x):\n",
        "        self.out = torch.tanh(x)\n",
        "        return self.out\n",
        "\n",
        "    def parameters(self):\n",
        "        return []"
      ]
    },
    {
      "cell_type": "code",
      "execution_count": null,
      "metadata": {
        "colab": {
          "base_uri": "https://localhost:8080/"
        },
        "id": "vVQorv_YKs-Y",
        "outputId": "9d3226db-9cf0-4847-8dfd-a1ceffc0111d"
      },
      "outputs": [
        {
          "output_type": "execute_result",
          "data": {
            "text/plain": [
              "<torch._C.Generator at 0x7a21c0ba5e90>"
            ]
          },
          "metadata": {},
          "execution_count": 7
        }
      ],
      "source": [
        "torch.manual_seed(42)"
      ]
    },
    {
      "cell_type": "code",
      "execution_count": null,
      "metadata": {
        "colab": {
          "base_uri": "https://localhost:8080/"
        },
        "id": "30JWLqMQKs-Y",
        "outputId": "9c3af4cf-385d-4fb1-cba8-83b45755d6e4"
      },
      "outputs": [
        {
          "output_type": "stream",
          "name": "stdout",
          "text": [
            "num parameters: 12097\n"
          ]
        }
      ],
      "source": [
        "n_embd = 10\n",
        "n_hidden = 200\n",
        "\n",
        "C = torch.randn((vocab_size, n_embd))\n",
        "layers = [\n",
        "    Linear(n_embd * block_size, n_hidden, bias=False),\n",
        "    BatchNorm1d(n_hidden),\n",
        "    Tanh(),\n",
        "    Linear(n_hidden, vocab_size)\n",
        "]\n",
        "\n",
        "with torch.no_grad():\n",
        "    layers[-1].weight *= 0.1\n",
        "\n",
        "parameters = [C] + [p for l in layers for p in l.parameters()]\n",
        "print(f\"num parameters: {sum(p.numel() for p in parameters)}\")\n",
        "\n",
        "for p in parameters:\n",
        "    p.requires_grad_()"
      ]
    },
    {
      "cell_type": "code",
      "execution_count": null,
      "metadata": {
        "colab": {
          "base_uri": "https://localhost:8080/"
        },
        "id": "Fu8L2SGvKs-Y",
        "outputId": "89a56dbf-2b24-4bc6-d693-107a3332b965"
      },
      "outputs": [
        {
          "output_type": "stream",
          "name": "stdout",
          "text": [
            "step 0 loss 3.2966105937957764\n"
          ]
        }
      ],
      "source": [
        "# same optimization as last time\n",
        "max_steps = 200000\n",
        "batch_size = 32\n",
        "lossi = []\n",
        "\n",
        "for i in range(max_steps):\n",
        "    ix = torch.randint(0, Xtr.shape[0], (batch_size,))\n",
        "    Xb, Yb = Xtr[ix], Ytr[ix]\n",
        "\n",
        "    # forward pass\n",
        "    emb = C[Xb]  # embed characters into vector space\n",
        "    x = emb.view((emb.shape[0], -1))  # flatten\n",
        "    for layer in layers:\n",
        "        x = layer(x)\n",
        "    # compute loss\n",
        "    loss = F.cross_entropy(x, Yb)\n",
        "\n",
        "    # backward pass\n",
        "    for layer in layers:\n",
        "        layer.out.retain_grad()\n",
        "    for p in parameters:\n",
        "        p.grad = None\n",
        "    loss.backward()\n",
        "\n",
        "    # update\n",
        "    lr = 0.1 if i < 10000 else 0.01\n",
        "    for p in parameters:\n",
        "        p.data -= lr * p.grad\n",
        "\n",
        "    # track stats\n",
        "    if i % 10000 == 0:\n",
        "        print(f\"step {i} loss {loss.item()}\")\n",
        "\n",
        "    lossi.append(loss.item())\n",
        "    break"
      ]
    },
    {
      "cell_type": "markdown",
      "metadata": {
        "id": "Wa44YqG4Ks-Y"
      },
      "source": [
        "## 1.2 Fixing the Learning Rate Plot"
      ]
    },
    {
      "cell_type": "code",
      "execution_count": null,
      "metadata": {
        "colab": {
          "base_uri": "https://localhost:8080/",
          "height": 141
        },
        "id": "uD83zip0Ks-Y",
        "outputId": "cb20f2c7-1a3f-4096-e0fb-5f578b99b76a"
      },
      "outputs": [
        {
          "output_type": "error",
          "ename": "RuntimeError",
          "evalue": "shape '[-1, 1000]' is invalid for input of size 1",
          "traceback": [
            "\u001b[0;31m---------------------------------------------------------------------------\u001b[0m",
            "\u001b[0;31mRuntimeError\u001b[0m                              Traceback (most recent call last)",
            "\u001b[0;32m<ipython-input-12-b96c6e9704c2>\u001b[0m in \u001b[0;36m<cell line: 1>\u001b[0;34m()\u001b[0m\n\u001b[0;32m----> 1\u001b[0;31m \u001b[0mplt\u001b[0m\u001b[0;34m.\u001b[0m\u001b[0mplot\u001b[0m\u001b[0;34m(\u001b[0m\u001b[0mtorch\u001b[0m\u001b[0;34m.\u001b[0m\u001b[0mtensor\u001b[0m\u001b[0;34m(\u001b[0m\u001b[0mlossi\u001b[0m\u001b[0;34m)\u001b[0m\u001b[0;34m.\u001b[0m\u001b[0mview\u001b[0m\u001b[0;34m(\u001b[0m\u001b[0;34m-\u001b[0m\u001b[0;36m1\u001b[0m\u001b[0;34m,\u001b[0m \u001b[0;36m1000\u001b[0m\u001b[0;34m)\u001b[0m\u001b[0;34m.\u001b[0m\u001b[0mmean\u001b[0m\u001b[0;34m(\u001b[0m\u001b[0;36m1\u001b[0m\u001b[0;34m,\u001b[0m \u001b[0mkeepdim\u001b[0m\u001b[0;34m=\u001b[0m\u001b[0;32mTrue\u001b[0m\u001b[0;34m)\u001b[0m\u001b[0;34m.\u001b[0m\u001b[0mdata\u001b[0m\u001b[0;34m)\u001b[0m\u001b[0;34m\u001b[0m\u001b[0;34m\u001b[0m\u001b[0m\n\u001b[0m",
            "\u001b[0;31mRuntimeError\u001b[0m: shape '[-1, 1000]' is invalid for input of size 1"
          ]
        }
      ],
      "source": [
        "plt.plot(torch.tensor(lossi).view(-1, 1000).mean(1, keepdim=True).data)"
      ]
    },
    {
      "cell_type": "markdown",
      "metadata": {
        "id": "DREZuqEyKs-Z"
      },
      "source": [
        "# 2- Pytorchifying our code\n",
        "add `Embedding`, `Flatten` and `Sequential` Classes"
      ]
    },
    {
      "cell_type": "markdown",
      "metadata": {
        "id": "V3Han519Ks-Z"
      },
      "source": [
        "## 2.1 Classes Definitions"
      ]
    },
    {
      "cell_type": "code",
      "execution_count": null,
      "metadata": {
        "id": "BS6tssshKs-Z"
      },
      "outputs": [],
      "source": [
        "# Layers made in part 3\n",
        "class Linear:\n",
        "    def __init__(self, fan_in, fan_out, bias=True):\n",
        "        self.weight = torch.randn((fan_in, fan_out))\n",
        "        self.weight /= fan_in ** 0.5\n",
        "        self.bias = torch.zeros((fan_out)) if bias else None\n",
        "\n",
        "    def __call__(self, x):\n",
        "        self.out = x @ self.weight\n",
        "        if self.bias is not None:\n",
        "            self.out += self.bias\n",
        "        return self.out\n",
        "\n",
        "    def parameters(self):\n",
        "        return [self.weight] + ([] if self.bias is None else [self.bias])\n",
        "\n",
        "\n",
        "class BatchNorm1d:\n",
        "    def __init__(self, dim, eps=1e-5, momentum=0.1):\n",
        "        self.eps = eps\n",
        "        self.momentum = momentum\n",
        "        self.training = True\n",
        "\n",
        "        # parameters (trained with backprop)\n",
        "        self.gamma = torch.ones(dim)\n",
        "        self.beta = torch.zeros(dim)\n",
        "\n",
        "        # buffers (trained while running `momentum update`)\n",
        "        self.running_mean = torch.zeros(dim)\n",
        "        self.running_var = torch.ones(dim)\n",
        "\n",
        "    def __call__(self, x):\n",
        "        if self.training:\n",
        "            # batch mean\n",
        "            xmean = x.mean(0, keepdim=True)\n",
        "            # batch variance\n",
        "            xvar = x.var(0, keepdim=True)\n",
        "        else:\n",
        "            xmean = self.running_mean\n",
        "            xvar = self.running_var\n",
        "\n",
        "        xhat = (x - xmean) / torch.sqrt(xvar + self.eps)\n",
        "        self.out = self.gamma * xhat + self.beta\n",
        "\n",
        "        # update the buffers in training\n",
        "        if self.training:\n",
        "            with torch.no_grad():\n",
        "                self.running_mean = (1 - self.momentum) * \\\n",
        "                    self.running_mean + self.momentum * xmean\n",
        "                self.running_var = (1 - self.momentum) * \\\n",
        "                    self.running_var + self.momentum * xvar\n",
        "\n",
        "        return self.out\n",
        "\n",
        "    def parameters(self):\n",
        "        return [self.gamma, self.beta]\n",
        "\n",
        "\n",
        "class Tanh:\n",
        "    def __call__(self, x):\n",
        "        self.out = torch.tanh(x)\n",
        "        return self.out\n",
        "\n",
        "    def parameters(self):\n",
        "        return []\n",
        "\n",
        "# ---------------- new ----------------\n",
        "\n",
        "\n",
        "class Embedding:\n",
        "    def __init__(self, num_embeddings, embedding_dim):\n",
        "        self.weight = torch.randn((num_embeddings, embedding_dim))\n",
        "\n",
        "    def __call__(self, x):\n",
        "        self.out = self.weight[x]\n",
        "        return self.out\n",
        "\n",
        "    def parameters(self):\n",
        "        return [self.weight]\n",
        "\n",
        "\n",
        "class Flatten:\n",
        "    def __call__(self, x):\n",
        "        self.out = x.view((x.shape[0], -1))\n",
        "        return self.out\n",
        "\n",
        "    def parameters(self):\n",
        "        return []\n",
        "\n",
        "\n",
        "class Sequential:\n",
        "    def __init__(self, layers):\n",
        "        self.layers = layers\n",
        "\n",
        "    def __call__(self, x):\n",
        "        for layer in self.layers:\n",
        "            x = layer(x)\n",
        "\n",
        "        self.out = x\n",
        "        return self.out\n",
        "\n",
        "    def parameters(self):\n",
        "        return [p for l in self.layers for p in l.parameters()]"
      ]
    },
    {
      "cell_type": "markdown",
      "metadata": {
        "id": "f2dAjPitKs-Z"
      },
      "source": [
        "## 2.2 Initialize the model"
      ]
    },
    {
      "cell_type": "code",
      "execution_count": null,
      "metadata": {
        "colab": {
          "base_uri": "https://localhost:8080/"
        },
        "id": "HcUkEcZmKs-Z",
        "outputId": "8c365ccb-4e2c-42bf-8d32-cfa4eea5cd7f"
      },
      "outputs": [
        {
          "output_type": "stream",
          "name": "stdout",
          "text": [
            "num parameters: 12097\n"
          ]
        }
      ],
      "source": [
        "n_embd = 10\n",
        "n_hidden = 200\n",
        "\n",
        "model = Sequential([\n",
        "    Embedding(vocab_size, n_embd),\n",
        "    Flatten(),\n",
        "\n",
        "    Linear(n_embd * block_size, n_hidden, bias=False),\n",
        "    BatchNorm1d(n_hidden),\n",
        "    Tanh(),\n",
        "\n",
        "    Linear(n_hidden, vocab_size)\n",
        "])\n",
        "\n",
        "with torch.no_grad():\n",
        "    layers[-1].weight *= 0.1\n",
        "\n",
        "parameters = model.parameters()\n",
        "print(f\"num parameters: {sum(p.numel() for p in parameters)}\")\n",
        "for p in parameters:\n",
        "    p.requires_grad_()"
      ]
    },
    {
      "cell_type": "markdown",
      "metadata": {
        "id": "PKsVNC9tKs-a"
      },
      "source": [
        "## 2.3 Training the model"
      ]
    },
    {
      "cell_type": "code",
      "execution_count": null,
      "metadata": {
        "colab": {
          "base_uri": "https://localhost:8080/"
        },
        "id": "n6pfIVB6Ks-a",
        "outputId": "7ed74236-9531-4409-fb3c-8fb1258837fc"
      },
      "outputs": [
        {
          "output_type": "stream",
          "name": "stdout",
          "text": [
            "step 0 loss 3.631577253341675\n"
          ]
        }
      ],
      "source": [
        "# same optimization as last time\n",
        "max_steps = 200000\n",
        "batch_size = 32\n",
        "lossi = []\n",
        "update_to_data_ratio = []\n",
        "\n",
        "for i in range(max_steps):\n",
        "    ix = torch.randint(0, Xtr.shape[0], (batch_size,))\n",
        "    Xb, Yb = Xtr[ix], Ytr[ix]\n",
        "\n",
        "    # forward pass is now simpler\n",
        "    logits = model(Xb)\n",
        "    loss = F.cross_entropy(logits, Yb)\n",
        "\n",
        "    for p in parameters:\n",
        "        p.grad = None\n",
        "    loss.backward()\n",
        "\n",
        "    # update\n",
        "    lr = 0.1 if i < 10000 else 0.01\n",
        "    for p in parameters:\n",
        "        p.data -= lr * p.grad\n",
        "\n",
        "    # track stats\n",
        "    if i % 10000 == 0:\n",
        "        print(f\"step {i} loss {loss.item()}\")\n",
        "\n",
        "    lossi.append(loss.item())\n",
        "\n",
        "    break"
      ]
    },
    {
      "cell_type": "markdown",
      "metadata": {
        "id": "QhB3zMteKs-a"
      },
      "source": [
        "## 2.4 Model Evaluation"
      ]
    },
    {
      "cell_type": "code",
      "execution_count": null,
      "metadata": {
        "id": "Jwg6CrUAKs-a"
      },
      "outputs": [],
      "source": [
        "for layer in model.layers:\n",
        "    layer.training = False"
      ]
    },
    {
      "cell_type": "code",
      "execution_count": null,
      "metadata": {
        "colab": {
          "base_uri": "https://localhost:8080/"
        },
        "id": "9vAofNpKKs-a",
        "outputId": "d5a1b247-d57c-4340-d5e4-88829b2ae691"
      },
      "outputs": [
        {
          "output_type": "stream",
          "name": "stdout",
          "text": [
            "train 3.4516208171844482\n",
            "valid 3.4509992599487305\n"
          ]
        }
      ],
      "source": [
        "@torch.no_grad()\n",
        "def split_loss(split):\n",
        "    x, y = {\n",
        "        \"train\": (Xtr, Ytr),\n",
        "        \"valid\": (Xdev, Ydev),\n",
        "        \"test\": (Xte, Yte)\n",
        "    }[split]\n",
        "    logits = model(x)\n",
        "    loss = F.cross_entropy(logits, y)\n",
        "    return loss.item()\n",
        "\n",
        "\n",
        "print(\"train\", split_loss(\"train\"))\n",
        "print(\"valid\", split_loss(\"valid\"))"
      ]
    },
    {
      "cell_type": "markdown",
      "metadata": {
        "id": "J6dMs_O_Ks-a"
      },
      "source": [
        "## 2.5- Sample from the model"
      ]
    },
    {
      "cell_type": "code",
      "execution_count": null,
      "metadata": {
        "colab": {
          "base_uri": "https://localhost:8080/"
        },
        "id": "JzQv1REtKs-b",
        "outputId": "def35bb6-69f6-438d-eb4b-6418bbff3721"
      },
      "outputs": [
        {
          "output_type": "stream",
          "name": "stdout",
          "text": [
            "oezwcqorwedcve\n",
            "xmin\n",
            "ejtzsgxiycvzkoycihmo\n",
            "zuzjwfhcspltyxcnrzifjkdaiymwjgbzcg\n",
            "cudt\n",
            "ssvlpzyuxedxxjpvdzjtrvwgwdcdjduoexe\n",
            "owp\n",
            "rnwnj\n",
            "fl\n",
            "qfouarko\n",
            "e\n",
            "mvomiknkdqfxlzya\n",
            "erlllyoohutgyisdomggurjbzbanruvtccvdwij\n",
            "slssfsqazlhwnkvggwkouuqxvwdgnosyjcgatowdsvqzwdfvwapsusxpkzkszqvlzcwdtitdfmiobkblwfrpsbvigvqawilrngbyqbddjexivtsifoucphhp\n",
            "zbrzqf\n",
            "pajwmybc\n",
            "cvxajrjbqgkwsjhvpcrdojhqcgl\n",
            "cfenecniyafpejhgzkqhltpchnsnyxqjewigdqiwdyouzxn\n",
            "fjehbkvopkjtneueuuaid\n",
            "uyxxovejhylbczebrpjviigagewuuhvjepahdajzlduxfyexjrlrpfbpiazcnersmabjaecoegmisoxobkpxopoddtbn\n"
          ]
        }
      ],
      "source": [
        "# sampling from the model\n",
        "g = torch.Generator().manual_seed(2147483647 + 10)\n",
        "\n",
        "for _ in range(20):\n",
        "    out = []\n",
        "    context = [0] * block_size\n",
        "    while True:\n",
        "        # Forward pass\n",
        "        logits = model(torch.tensor([context]))\n",
        "        probs = F.softmax(logits, dim=1)\n",
        "\n",
        "        ix = torch.multinomial(probs, num_samples=1).item()\n",
        "\n",
        "        # Shift the Context Window\n",
        "        context = context[1:] + [ix]\n",
        "\n",
        "        if ix == 0:\n",
        "            break\n",
        "\n",
        "        out.append(ix)\n",
        "\n",
        "    print(\"\".join(itos[i] for i in out))"
      ]
    },
    {
      "cell_type": "markdown",
      "metadata": {
        "id": "XiUBw8O_Ks-b"
      },
      "source": [
        "# 3- Building the WaveNet Model"
      ]
    },
    {
      "cell_type": "markdown",
      "metadata": {
        "id": "Pe_Qn7fwKs-b"
      },
      "source": [
        "![dilated_casual_conv](../images/dilated_casual_conv.png)"
      ]
    },
    {
      "cell_type": "markdown",
      "metadata": {
        "id": "j6CR6nr3Ks-b"
      },
      "source": [
        "## 3.1 Changing Dataset blocksize"
      ]
    },
    {
      "cell_type": "code",
      "execution_count": null,
      "metadata": {
        "colab": {
          "base_uri": "https://localhost:8080/"
        },
        "id": "ZGb1IMEHKs-b",
        "outputId": "20110699-f646-4364-e9cd-ad13c6fef1ad"
      },
      "outputs": [
        {
          "output_type": "stream",
          "name": "stdout",
          "text": [
            "torch.Size([182580, 8]) torch.Size([182580])\n",
            "torch.Size([22767, 8]) torch.Size([22767])\n",
            "torch.Size([22799, 8]) torch.Size([22799])\n"
          ]
        }
      ],
      "source": [
        "import random\n",
        "block_size = 8\n",
        "\n",
        "\n",
        "def build_dataset(words):\n",
        "\n",
        "    X, Y = [], []\n",
        "\n",
        "    for w in words:\n",
        "\n",
        "        context = [0] * block_size\n",
        "        for ch in w + '.':\n",
        "\n",
        "            ix = stoi[ch]\n",
        "\n",
        "            X.append(context)\n",
        "            Y.append(ix)\n",
        "\n",
        "            context = context[1:] + [ix]\n",
        "\n",
        "    X = torch.tensor(X)\n",
        "    Y = torch.tensor(Y)\n",
        "    print(X.shape, Y.shape)\n",
        "    return X, Y\n",
        "\n",
        "\n",
        "random.seed(42)\n",
        "random.shuffle(words)\n",
        "n1 = int(0.8*len(words))\n",
        "n2 = int(0.9*len(words))\n",
        "\n",
        "Xtr, Ytr = build_dataset(words[:n1])\n",
        "Xdev, Ydev = build_dataset(words[n1:n2])\n",
        "Xte, Yte = build_dataset(words[n2:])"
      ]
    },
    {
      "cell_type": "code",
      "execution_count": null,
      "metadata": {
        "colab": {
          "base_uri": "https://localhost:8080/"
        },
        "id": "Pe6w8ooeKs-b",
        "outputId": "94a7b161-6c2c-4927-fca9-050bff1ef277"
      },
      "outputs": [
        {
          "output_type": "stream",
          "name": "stdout",
          "text": [
            "........ ----> e\n",
            ".......e ----> b\n",
            "......eb ----> r\n",
            ".....ebr ----> i\n",
            "....ebri ----> m\n",
            "...ebrim ----> a\n",
            "..ebrima ----> .\n",
            "........ ----> h\n",
            ".......h ----> i\n",
            "......hi ----> l\n",
            ".....hil ----> t\n",
            "....hilt ----> o\n",
            "...hilto ----> n\n",
            "..hilton ----> .\n",
            "........ ----> j\n"
          ]
        }
      ],
      "source": [
        "for x, y in zip(Xtr[:15], Ytr[:15]):\n",
        "    print(\"\".join(itos[ix.item()] for ix in x), \"---->\", itos[y.item()])"
      ]
    },
    {
      "cell_type": "markdown",
      "metadata": {
        "id": "myFbbNLeKs-c"
      },
      "source": [
        "## 3.2 Initializing a normal network"
      ]
    },
    {
      "cell_type": "code",
      "execution_count": null,
      "metadata": {
        "colab": {
          "base_uri": "https://localhost:8080/"
        },
        "id": "cNjrc1TGKs-c",
        "outputId": "cde6fca4-7df0-4608-adc1-be949e8cbd13"
      },
      "outputs": [
        {
          "output_type": "stream",
          "name": "stdout",
          "text": [
            "num parameters: 22097\n"
          ]
        }
      ],
      "source": [
        "n_embd = 10\n",
        "n_hidden = 200\n",
        "\n",
        "model = Sequential([\n",
        "    Embedding(vocab_size, n_embd),\n",
        "    Flatten(),\n",
        "\n",
        "    Linear(n_embd * block_size, n_hidden, bias=False),\n",
        "    BatchNorm1d(n_hidden),\n",
        "    Tanh(),\n",
        "\n",
        "    Linear(n_hidden, vocab_size)\n",
        "])\n",
        "\n",
        "with torch.no_grad():\n",
        "    layers[-1].weight *= 0.1\n",
        "\n",
        "parameters = model.parameters()\n",
        "print(f\"num parameters: {sum(p.numel() for p in parameters)}\")\n",
        "for p in parameters:\n",
        "    p.requires_grad_()"
      ]
    },
    {
      "cell_type": "markdown",
      "metadata": {
        "id": "x8vn4ZhIKs-c"
      },
      "source": [
        "## 3.3 Implementing WaveNet"
      ]
    },
    {
      "cell_type": "markdown",
      "metadata": {
        "id": "pdW1IrreKs-d"
      },
      "source": [
        "### 3.3.1 Shape Exploration"
      ]
    },
    {
      "cell_type": "code",
      "execution_count": null,
      "metadata": {
        "colab": {
          "base_uri": "https://localhost:8080/"
        },
        "id": "d55kSTquKs-d",
        "outputId": "ac8e6399-6f8d-4fc7-fa11-3558be5822ce"
      },
      "outputs": [
        {
          "output_type": "stream",
          "name": "stdout",
          "text": [
            "torch.Size([5, 8])\n"
          ]
        },
        {
          "output_type": "execute_result",
          "data": {
            "text/plain": [
              "tensor([[ 0,  0,  0,  0,  0,  0,  0, 20],\n",
              "        [ 0,  0,  0,  0,  0,  0,  0,  8],\n",
              "        [ 0,  0,  0,  0,  0,  0,  0,  1],\n",
              "        [ 0,  0,  0,  0, 18,  1, 17, 21],\n",
              "        [ 0,  0,  0,  0,  0,  0,  0,  0]])"
            ]
          },
          "metadata": {},
          "execution_count": 22
        }
      ],
      "source": [
        "# look at batch of 5 examples (it's 4 in the original video but I changed it to 5 to prevent confusion)\n",
        "ix = torch.randint(0, Xtr.shape[0], (5,))\n",
        "Xb, Yb = Xtr[ix], Ytr[ix]\n",
        "\n",
        "logits = model(Xb)\n",
        "print(Xb.shape)\n",
        "Xb"
      ]
    },
    {
      "cell_type": "code",
      "execution_count": null,
      "metadata": {
        "colab": {
          "base_uri": "https://localhost:8080/"
        },
        "id": "y2g4LevjKs-d",
        "outputId": "d4fab3a7-00c2-40f4-e793-379275572542"
      },
      "outputs": [
        {
          "output_type": "stream",
          "name": "stdout",
          "text": [
            "Embedding has output size of: torch.Size([5, 8, 10])\n",
            "Flatten has output size of: torch.Size([5, 80])\n",
            "Linear has output size of: torch.Size([5, 200])\n",
            "BatchNorm1d has output size of: torch.Size([5, 200])\n",
            "Tanh has output size of: torch.Size([5, 200])\n",
            "Linear has output size of: torch.Size([5, 27])\n"
          ]
        }
      ],
      "source": [
        "for layer in model.layers:\n",
        "    print(f\"{layer.__class__.__name__} has output size of: {layer.out.shape}\")"
      ]
    },
    {
      "cell_type": "markdown",
      "metadata": {
        "id": "xrZc72qoKs-e"
      },
      "source": [
        "we don't want to process the 8 characters at the same time\n",
        "```\n",
        "1 2 3 4 5 6 7 8\n",
        "```\n",
        "but we want to process them in 4 groups of 2 characters in parallel\n",
        "```\n",
        "(1 2) (3 4) (5 6) (7 8)\n",
        "```\n",
        "\n",
        "so instead of multiplying `(5, 80) @ (80, 200) = (5, 200)` we want to multiply `(5, 4, 20) @ (20, 200) = (5, 4, 200)`"
      ]
    },
    {
      "cell_type": "code",
      "execution_count": null,
      "metadata": {
        "colab": {
          "base_uri": "https://localhost:8080/"
        },
        "id": "J75ZzHTfKs-e",
        "outputId": "be56c0fb-4064-42af-c68a-7527f1304a79"
      },
      "outputs": [
        {
          "output_type": "execute_result",
          "data": {
            "text/plain": [
              "tensor(True)"
            ]
          },
          "metadata": {},
          "execution_count": 24
        }
      ],
      "source": [
        "# output of layer 0\n",
        "e = torch.randn(5, 8, 10)\n",
        "# contacenate even and odd (on character dimension) elements of the last dimension\n",
        "explicit = torch.cat([e[:, ::2, :], e[:, 1::2, :]], dim=2)\n",
        "# you can do the same using view\n",
        "implicit = e.view(5, 4, 20)\n",
        "\n",
        "(implicit == explicit).all()"
      ]
    },
    {
      "cell_type": "markdown",
      "metadata": {
        "id": "Y9brkDS2Ks-e"
      },
      "source": [
        "### 3.3.2 - FlattenConsectutive Class"
      ]
    },
    {
      "cell_type": "code",
      "execution_count": null,
      "metadata": {
        "id": "X0rvTTisKs-e"
      },
      "outputs": [],
      "source": [
        "# Reimplement Flatten\n",
        "class FlattenConsecutive:\n",
        "    def __init__(self, n):\n",
        "        # n is the number of consecutive elements we want (2 in our example)\n",
        "        self.n = n\n",
        "\n",
        "    def __call__(self, x):\n",
        "        # in our example: B = 5, T = 8, C = 10\n",
        "        B, T, C = x.shape\n",
        "        # we want to convert X to (5, 4, 20)\n",
        "        x = x.view(B, T // self.n, C * self.n)\n",
        "\n",
        "        if x.shape[1] == 1:\n",
        "            x = x.squeeze(1)\n",
        "\n",
        "        self.out = x\n",
        "        return self.out\n",
        "\n",
        "    def parameters(self):\n",
        "        return []"
      ]
    },
    {
      "cell_type": "markdown",
      "metadata": {
        "id": "DZergjlaKs-f"
      },
      "source": [
        "### 3.3.3 - previous behavior using FlattenConsecutive"
      ]
    },
    {
      "cell_type": "code",
      "execution_count": null,
      "metadata": {
        "colab": {
          "base_uri": "https://localhost:8080/"
        },
        "id": "ccrQ5XnnKs-f",
        "outputId": "db7740e0-7ed2-4eb3-b35f-5a7acbf553ce"
      },
      "outputs": [
        {
          "output_type": "stream",
          "name": "stdout",
          "text": [
            "num parameters: 22097\n"
          ]
        }
      ],
      "source": [
        "n_embd = 10\n",
        "n_hidden = 200\n",
        "\n",
        "model = Sequential([\n",
        "    Embedding(vocab_size, n_embd),\n",
        "    # calling FlattenConsecutive(block_size) will return in the same previous behavior\n",
        "    FlattenConsecutive(block_size),\n",
        "\n",
        "    Linear(n_embd * block_size, n_hidden, bias=False),\n",
        "    BatchNorm1d(n_hidden),\n",
        "    Tanh(),\n",
        "\n",
        "    Linear(n_hidden, vocab_size)\n",
        "])\n",
        "\n",
        "with torch.no_grad():\n",
        "    layers[-1].weight *= 0.1\n",
        "\n",
        "parameters = model.parameters()\n",
        "print(f\"num parameters: {sum(p.numel() for p in parameters)}\")\n",
        "for p in parameters:\n",
        "    p.requires_grad_()"
      ]
    },
    {
      "cell_type": "code",
      "execution_count": null,
      "metadata": {
        "colab": {
          "base_uri": "https://localhost:8080/"
        },
        "id": "w1VpOBHqKs-f",
        "outputId": "bf5e4004-2d19-4cfb-faa0-2ccb7b1665ec"
      },
      "outputs": [
        {
          "output_type": "stream",
          "name": "stdout",
          "text": [
            "torch.Size([5, 8])\n"
          ]
        },
        {
          "output_type": "execute_result",
          "data": {
            "text/plain": [
              "tensor([[ 0,  0,  0, 13, 15,  8,  1, 13],\n",
              "        [ 0,  0,  0,  0, 11,  1, 19,  9],\n",
              "        [ 0,  0,  0,  0,  0, 10,  1, 25],\n",
              "        [ 0,  0,  0,  0,  0, 18,  9,  8],\n",
              "        [ 0,  0,  0,  0,  0,  0,  0,  4]])"
            ]
          },
          "metadata": {},
          "execution_count": 27
        }
      ],
      "source": [
        "ix = torch.randint(0, Xtr.shape[0], (5,))\n",
        "Xb, Yb = Xtr[ix], Ytr[ix]\n",
        "\n",
        "logits = model(Xb)\n",
        "print(Xb.shape)\n",
        "Xb"
      ]
    },
    {
      "cell_type": "code",
      "execution_count": null,
      "metadata": {
        "colab": {
          "base_uri": "https://localhost:8080/"
        },
        "id": "bUsTmZLJKs-f",
        "outputId": "50882c42-f409-43c0-a802-21c833bc0e9d"
      },
      "outputs": [
        {
          "output_type": "stream",
          "name": "stdout",
          "text": [
            "Embedding has output size of: torch.Size([5, 8, 10])\n",
            "FlattenConsecutive has output size of: torch.Size([5, 80])\n",
            "Linear has output size of: torch.Size([5, 200])\n",
            "BatchNorm1d has output size of: torch.Size([5, 200])\n",
            "Tanh has output size of: torch.Size([5, 200])\n",
            "Linear has output size of: torch.Size([5, 27])\n"
          ]
        }
      ],
      "source": [
        "for layer in model.layers:\n",
        "    print(f\"{layer.__class__.__name__} has output size of: {(layer.out.shape)}\")"
      ]
    },
    {
      "cell_type": "markdown",
      "metadata": {
        "id": "dS_V3TsjKs-f"
      },
      "source": [
        "### 3.3.4 - Processing Hierarchically: FlattenConsecutive(2)"
      ]
    },
    {
      "cell_type": "code",
      "execution_count": null,
      "metadata": {
        "id": "i8tWzh33Ks-f"
      },
      "outputs": [],
      "source": []
    },
    {
      "cell_type": "code",
      "execution_count": null,
      "metadata": {
        "colab": {
          "base_uri": "https://localhost:8080/"
        },
        "id": "ajtdPbQ5Ks-f",
        "outputId": "19230337-9e33-468c-f291-7a1793bc8a7f"
      },
      "outputs": [
        {
          "output_type": "stream",
          "name": "stdout",
          "text": [
            "num parameters: 22397\n"
          ]
        }
      ],
      "source": [
        "n_embd = 10\n",
        "# changing the number of hidden units to 68 keeps the same number of parameters as the previous model (22k)\n",
        "n_hidden = 68\n",
        "\n",
        "model = Sequential([\n",
        "    Embedding(vocab_size, n_embd),\n",
        "    FlattenConsecutive(2), Linear(n_embd * 2, n_hidden,\n",
        "                                  bias=False), BatchNorm1d(n_hidden), Tanh(),\n",
        "    FlattenConsecutive(2), Linear(n_hidden * 2, n_hidden,\n",
        "                                  bias=False), BatchNorm1d(n_hidden), Tanh(),\n",
        "    FlattenConsecutive(2), Linear(n_hidden * 2, n_hidden,\n",
        "                                  bias=False), BatchNorm1d(n_hidden), Tanh(),\n",
        "    Linear(n_hidden, vocab_size),\n",
        "])\n",
        "\n",
        "with torch.no_grad():\n",
        "    layers[-1].weight *= 0.1\n",
        "\n",
        "parameters = model.parameters()\n",
        "print(f\"num parameters: {sum(p.numel() for p in parameters)}\")\n",
        "for p in parameters:\n",
        "    p.requires_grad_()"
      ]
    },
    {
      "cell_type": "code",
      "execution_count": null,
      "metadata": {
        "colab": {
          "base_uri": "https://localhost:8080/"
        },
        "id": "42QK1h5hKs-g",
        "outputId": "adfd09ca-503f-4eb1-9166-4533c3271e3c"
      },
      "outputs": [
        {
          "output_type": "stream",
          "name": "stdout",
          "text": [
            "torch.Size([5, 8])\n"
          ]
        },
        {
          "output_type": "execute_result",
          "data": {
            "text/plain": [
              "tensor([[ 0,  0,  0,  0,  0,  0,  0, 16],\n",
              "        [ 0,  0,  0,  0,  0, 20,  5, 25],\n",
              "        [ 0,  0,  0,  0,  0,  0,  2, 18],\n",
              "        [ 0,  0,  0,  6,  1, 18,  8,  1],\n",
              "        [ 0,  0,  0,  0,  0,  0, 19,  8]])"
            ]
          },
          "metadata": {},
          "execution_count": 30
        }
      ],
      "source": [
        "ix = torch.randint(0, Xtr.shape[0], (5,))\n",
        "Xb, Yb = Xtr[ix], Ytr[ix]\n",
        "\n",
        "logits = model(Xb)\n",
        "print(Xb.shape)\n",
        "Xb"
      ]
    },
    {
      "cell_type": "code",
      "execution_count": null,
      "metadata": {
        "colab": {
          "base_uri": "https://localhost:8080/"
        },
        "id": "IOfPc4XfKs-g",
        "outputId": "aa2348f1-2b2a-4fc0-eddf-68d84bf315eb"
      },
      "outputs": [
        {
          "output_type": "stream",
          "name": "stdout",
          "text": [
            "Embedding has output size of: torch.Size([5, 8, 10])\n",
            "FlattenConsecutive has output size of: torch.Size([5, 4, 20])\n",
            "Linear has output size of: torch.Size([5, 4, 68])\n",
            "BatchNorm1d has output size of: torch.Size([5, 4, 68])\n",
            "Tanh has output size of: torch.Size([5, 4, 68])\n",
            "FlattenConsecutive has output size of: torch.Size([5, 2, 136])\n",
            "Linear has output size of: torch.Size([5, 2, 68])\n",
            "BatchNorm1d has output size of: torch.Size([5, 2, 68])\n",
            "Tanh has output size of: torch.Size([5, 2, 68])\n",
            "FlattenConsecutive has output size of: torch.Size([5, 136])\n",
            "Linear has output size of: torch.Size([5, 68])\n",
            "BatchNorm1d has output size of: torch.Size([5, 68])\n",
            "Tanh has output size of: torch.Size([5, 68])\n",
            "Linear has output size of: torch.Size([5, 27])\n"
          ]
        }
      ],
      "source": [
        "for layer in model.layers:\n",
        "    print(f\"{layer.__class__.__name__} has output size of: {layer.out.shape}\")"
      ]
    },
    {
      "cell_type": "markdown",
      "metadata": {
        "id": "BBI9i9apKs-g"
      },
      "source": [
        "however, this network gives the same loss = 2.0"
      ]
    },
    {
      "cell_type": "markdown",
      "metadata": {
        "id": "AbdBmv6TKs-g"
      },
      "source": [
        "### 3.3.5 - Fixing BatchNorm Bug\n",
        "we implemented batchnorm for X 2D only\n",
        "\n",
        "we calculated mean and variance for the first dimension only\n",
        "\n",
        "we don't want to average over the batch dimension only, but also over the 2nd dimension (the 4 groups of 2 characters)"
      ]
    },
    {
      "cell_type": "code",
      "execution_count": null,
      "metadata": {
        "colab": {
          "base_uri": "https://localhost:8080/"
        },
        "id": "VNYcep8rKs-g",
        "outputId": "c8d09a59-2c59-4727-e10b-0f3ef75f47e1"
      },
      "outputs": [
        {
          "output_type": "stream",
          "name": "stdout",
          "text": [
            "torch.Size([32, 4, 68])\n",
            "shape of running mean is torch.Size([1, 4, 68])\n"
          ]
        }
      ],
      "source": [
        "e = torch.rand(32, 4, 68)\n",
        "emean = e.mean(dim=(0, 1), keepdim=True)  # (1, 1, 68)\n",
        "evar = e.var((0, 1), keepdim=True)  # (1, 1, 68)\n",
        "ehat = (e - emean) / torch.sqrt(evar + 1e-5)\n",
        "\n",
        "print(ehat.shape)\n",
        "print(f\"shape of running mean is {model.layers[3].running_mean.shape}\")"
      ]
    },
    {
      "cell_type": "code",
      "execution_count": null,
      "metadata": {
        "id": "ZucWdbEGKs-g"
      },
      "outputs": [],
      "source": [
        "class BatchNorm1d:\n",
        "    def __init__(self, dim, eps=1e-5, momentum=0.1):\n",
        "        self.eps = eps\n",
        "        self.momentum = momentum\n",
        "        self.training = True\n",
        "\n",
        "        # parameters (trained with backprop)\n",
        "        self.gamma = torch.ones(dim)\n",
        "        self.beta = torch.zeros(dim)\n",
        "\n",
        "        # buffers (trained while running `momentum update`)\n",
        "        self.running_mean = torch.zeros(dim)\n",
        "        self.running_var = torch.ones(dim)\n",
        "\n",
        "    def __call__(self, x):\n",
        "        if self.training:\n",
        "            # determine the dimension to reduce over\n",
        "            if x.ndim == 2:\n",
        "                dim = 0\n",
        "            elif x.ndim == 3:\n",
        "                dim = (0, 1)\n",
        "\n",
        "            xmean = x.mean(dim, keepdim=True)\n",
        "            # batch variance\n",
        "            xvar = x.var(dim, keepdim=True)\n",
        "        else:\n",
        "            xmean = self.running_mean\n",
        "            xvar = self.running_var\n",
        "\n",
        "        xhat = (x - xmean) / torch.sqrt(xvar + self.eps)\n",
        "        self.out = self.gamma * xhat + self.beta\n",
        "\n",
        "        # update the buffers in training\n",
        "        if self.training:\n",
        "            with torch.no_grad():\n",
        "                self.running_mean = (1 - self.momentum) * \\\n",
        "                    self.running_mean + self.momentum * xmean\n",
        "                self.running_var = (1 - self.momentum) * \\\n",
        "                    self.running_var + self.momentum * xvar\n",
        "\n",
        "        return self.out\n",
        "\n",
        "    def parameters(self):\n",
        "        return [self.gamma, self.beta]"
      ]
    },
    {
      "cell_type": "code",
      "execution_count": null,
      "metadata": {
        "colab": {
          "base_uri": "https://localhost:8080/"
        },
        "id": "97flZ3zpKs-g",
        "outputId": "d2037861-4e71-49ad-bd03-82b0524dd8f2"
      },
      "outputs": [
        {
          "output_type": "stream",
          "name": "stdout",
          "text": [
            "num parameters: 22397\n"
          ]
        }
      ],
      "source": [
        "n_embd = 10\n",
        "# changing the number of hidden units to 68 keeps the same number of parameters as the previous model (22k)\n",
        "n_hidden = 68\n",
        "\n",
        "model = Sequential([\n",
        "    Embedding(vocab_size, n_embd),\n",
        "    FlattenConsecutive(2), Linear(n_embd * 2, n_hidden,\n",
        "                                  bias=False), BatchNorm1d(n_hidden), Tanh(),\n",
        "    FlattenConsecutive(2), Linear(n_hidden * 2, n_hidden,\n",
        "                                  bias=False), BatchNorm1d(n_hidden), Tanh(),\n",
        "    FlattenConsecutive(2), Linear(n_hidden * 2, n_hidden,\n",
        "                                  bias=False), BatchNorm1d(n_hidden), Tanh(),\n",
        "    Linear(n_hidden, vocab_size),\n",
        "])\n",
        "\n",
        "with torch.no_grad():\n",
        "    layers[-1].weight *= 0.1\n",
        "\n",
        "parameters = model.parameters()\n",
        "print(f\"num parameters: {sum(p.numel() for p in parameters)}\")\n",
        "for p in parameters:\n",
        "    p.requires_grad_()"
      ]
    },
    {
      "cell_type": "markdown",
      "metadata": {
        "id": "FmNjkFoKKs-h"
      },
      "source": [
        "The model improves a little bit (2.029 -> 2.022)"
      ]
    },
    {
      "cell_type": "markdown",
      "metadata": {
        "id": "2eZusvhQKs-h"
      },
      "source": [
        "# 4- Final Implementation"
      ]
    },
    {
      "cell_type": "code",
      "execution_count": null,
      "metadata": {
        "id": "yVQlZ3nmKs-h"
      },
      "outputs": [],
      "source": [
        "# Layers made in part 3\n",
        "class Linear:\n",
        "    def __init__(self, fan_in, fan_out, bias=True):\n",
        "        self.weight = torch.randn((fan_in, fan_out))\n",
        "        self.weight /= fan_in ** 0.5\n",
        "        self.bias = torch.zeros((fan_out)) if bias else None\n",
        "\n",
        "    def __call__(self, x):\n",
        "        self.out = x @ self.weight\n",
        "        if self.bias is not None:\n",
        "            self.out += self.bias\n",
        "        return self.out\n",
        "\n",
        "    def parameters(self):\n",
        "        return [self.weight] + ([] if self.bias is None else [self.bias])\n",
        "\n",
        "\n",
        "class BatchNorm1d:\n",
        "    def __init__(self, dim, eps=1e-5, momentum=0.1):\n",
        "        self.eps = eps\n",
        "        self.momentum = momentum\n",
        "        self.training = True\n",
        "\n",
        "        # parameters (trained with backprop)\n",
        "        self.gamma = torch.ones(dim)\n",
        "        self.beta = torch.zeros(dim)\n",
        "\n",
        "        # buffers (trained while running `momentum update`)\n",
        "        self.running_mean = torch.zeros(dim)\n",
        "        self.running_var = torch.ones(dim)\n",
        "\n",
        "    def __call__(self, x):\n",
        "        if self.training:\n",
        "            # determine the dimension to reduce over\n",
        "            if x.ndim == 2:\n",
        "                dim = 0\n",
        "            elif x.ndim == 3:\n",
        "                dim = (0, 1)\n",
        "\n",
        "            xmean = x.mean(dim, keepdim=True)\n",
        "            # batch variance\n",
        "            xvar = x.var(dim, keepdim=True)\n",
        "        else:\n",
        "            xmean = self.running_mean\n",
        "            xvar = self.running_var\n",
        "\n",
        "        xhat = (x - xmean) / torch.sqrt(xvar + self.eps)\n",
        "        self.out = self.gamma * xhat + self.beta\n",
        "\n",
        "        # update the buffers in training\n",
        "        if self.training:\n",
        "            with torch.no_grad():\n",
        "                self.running_mean = (1 - self.momentum) * \\\n",
        "                    self.running_mean + self.momentum * xmean\n",
        "                self.running_var = (1 - self.momentum) * \\\n",
        "                    self.running_var + self.momentum * xvar\n",
        "\n",
        "        return self.out\n",
        "\n",
        "    def parameters(self):\n",
        "        return [self.gamma, self.beta]\n",
        "\n",
        "\n",
        "class Tanh:\n",
        "    def __call__(self, x):\n",
        "        self.out = torch.tanh(x)\n",
        "        return self.out\n",
        "\n",
        "    def parameters(self):\n",
        "        return []\n",
        "\n",
        "\n",
        "class Embedding:\n",
        "    def __init__(self, num_embeddings, embedding_dim):\n",
        "        self.weight = torch.randn((num_embeddings, embedding_dim))\n",
        "\n",
        "    def __call__(self, x):\n",
        "        self.out = self.weight[x]\n",
        "        return self.out\n",
        "\n",
        "    def parameters(self):\n",
        "        return [self.weight]\n",
        "\n",
        "\n",
        "class Flatten:\n",
        "    def __call__(self, x):\n",
        "        self.out = x.view((x.shape[0], -1))\n",
        "        return self.out\n",
        "\n",
        "    def parameters(self):\n",
        "        return []\n",
        "\n",
        "\n",
        "class Sequential:\n",
        "    def __init__(self, layers):\n",
        "        self.layers = layers\n",
        "\n",
        "    def __call__(self, x):\n",
        "        for layer in self.layers:\n",
        "            x = layer(x)\n",
        "\n",
        "        self.out = x\n",
        "        return self.out\n",
        "\n",
        "    def parameters(self):\n",
        "        return [p for l in self.layers for p in l.parameters()]\n",
        "\n",
        "\n",
        "class FlattenConsecutive:\n",
        "    def __init__(self, n):\n",
        "        # n is the number of consecutive elements we want (2 in our example)\n",
        "        self.n = n\n",
        "\n",
        "    def __call__(self, x):\n",
        "        # in our example: B = 5, T = 8, C = 10\n",
        "        B, T, C = x.shape\n",
        "        # we want to convert X to (5, 4, 20)\n",
        "        x = x.view(B, T // self.n, C * self.n)\n",
        "\n",
        "        if x.shape[1] == 1:\n",
        "            x = x.squeeze(1)\n",
        "\n",
        "        self.out = x\n",
        "        return self.out\n",
        "\n",
        "    def parameters(self):\n",
        "        return []"
      ]
    },
    {
      "cell_type": "code",
      "execution_count": null,
      "metadata": {
        "colab": {
          "base_uri": "https://localhost:8080/"
        },
        "id": "lusHvp-uKs-h",
        "outputId": "246c3250-98d1-4451-8f26-3eb46ce210cf"
      },
      "outputs": [
        {
          "output_type": "stream",
          "name": "stdout",
          "text": [
            "76579\n"
          ]
        }
      ],
      "source": [
        "n_embd = 24\n",
        "n_hidden = 128\n",
        "\n",
        "model = Sequential([\n",
        "    Embedding(vocab_size, n_embd),\n",
        "    FlattenConsecutive(2), Linear(n_embd * 2, n_hidden,\n",
        "                                  bias=False), BatchNorm1d(n_hidden), Tanh(),\n",
        "    FlattenConsecutive(2), Linear(n_hidden*2, n_hidden,\n",
        "                                  bias=False), BatchNorm1d(n_hidden), Tanh(),\n",
        "    FlattenConsecutive(2), Linear(n_hidden*2, n_hidden,\n",
        "                                  bias=False), BatchNorm1d(n_hidden), Tanh(),\n",
        "    Linear(n_hidden, vocab_size),\n",
        "])\n",
        "\n",
        "with torch.no_grad():\n",
        "    model.layers[-1].weight *= 0.1  # last layer make less confident\n",
        "\n",
        "parameters = model.parameters()\n",
        "print(sum(p.nelement() for p in parameters))  # number of parameters in total\n",
        "for p in parameters:\n",
        "    p.requires_grad = True"
      ]
    },
    {
      "cell_type": "code",
      "execution_count": null,
      "metadata": {
        "colab": {
          "base_uri": "https://localhost:8080/"
        },
        "id": "QuGTC6nKKs-h",
        "outputId": "64d4edff-26b0-4f45-98b6-79f4548d118d"
      },
      "outputs": [
        {
          "output_type": "stream",
          "name": "stdout",
          "text": [
            "      0/ 200000: 3.3023\n",
            "  10000/ 200000: 1.7390\n",
            "  20000/ 200000: 1.8811\n",
            "  30000/ 200000: 2.3255\n",
            "  40000/ 200000: 1.6386\n",
            "  50000/ 200000: 1.9138\n",
            "  60000/ 200000: 1.9065\n",
            "  70000/ 200000: 1.6051\n",
            "  80000/ 200000: 1.7464\n",
            "  90000/ 200000: 1.8728\n",
            " 100000/ 200000: 1.5794\n",
            " 110000/ 200000: 1.6545\n",
            " 120000/ 200000: 2.0548\n",
            " 130000/ 200000: 1.5856\n",
            " 140000/ 200000: 1.5998\n",
            " 150000/ 200000: 2.0187\n",
            " 160000/ 200000: 1.8150\n",
            " 170000/ 200000: 1.7204\n",
            " 180000/ 200000: 1.9342\n",
            " 190000/ 200000: 1.5774\n"
          ]
        }
      ],
      "source": [
        "# same optimization as last time\n",
        "max_steps = 200000\n",
        "batch_size = 32\n",
        "lossi = []\n",
        "\n",
        "for i in range(max_steps):\n",
        "\n",
        "    # minibatch construct\n",
        "    ix = torch.randint(0, Xtr.shape[0], (batch_size,))\n",
        "    Xb, Yb = Xtr[ix], Ytr[ix]  # batch X,Y\n",
        "\n",
        "    # forward pass\n",
        "    logits = model(Xb)\n",
        "    loss = F.cross_entropy(logits, Yb)  # loss function\n",
        "\n",
        "    # backward pass\n",
        "    for p in parameters:\n",
        "        p.grad = None\n",
        "    loss.backward()\n",
        "\n",
        "    # update: simple SGD\n",
        "    lr = 0.1 if i < 150000 else 0.01  # step learning rate decay\n",
        "    for p in parameters:\n",
        "        p.data += -lr * p.grad\n",
        "\n",
        "    # track stats\n",
        "    if i % 10000 == 0:  # print every once in a while\n",
        "        print(f'{i:7d}/{max_steps:7d}: {loss.item():.4f}')\n",
        "    lossi.append(loss.log10().item())"
      ]
    },
    {
      "cell_type": "code",
      "execution_count": null,
      "metadata": {
        "colab": {
          "base_uri": "https://localhost:8080/",
          "height": 447
        },
        "id": "yFdjhtlgKs-h",
        "outputId": "b1f2c4dd-1b13-4a3f-ae54-91fc55c98d27"
      },
      "outputs": [
        {
          "output_type": "execute_result",
          "data": {
            "text/plain": [
              "[<matplotlib.lines.Line2D at 0x7a20e6730e50>]"
            ]
          },
          "metadata": {},
          "execution_count": 38
        },
        {
          "output_type": "display_data",
          "data": {
            "text/plain": [
              "<Figure size 640x480 with 1 Axes>"
            ],
            "image/png": "[encoded data removed]"
          },
          "metadata": {}
        }
      ],
      "source": [
        "plt.plot(torch.tensor(lossi).view(-1, 1000).mean(1, keepdim=True).data)"
      ]
    },
    {
      "cell_type": "code",
      "execution_count": null,
      "metadata": {
        "id": "MiXXpHY3Ks-i"
      },
      "outputs": [],
      "source": [
        "for layer in model.layers:\n",
        "    layer.training = False"
      ]
    },
    {
      "cell_type": "code",
      "execution_count": null,
      "metadata": {
        "colab": {
          "base_uri": "https://localhost:8080/"
        },
        "id": "s9WZZvbOKs-i",
        "outputId": "14b22e6d-94cb-4ced-cfc5-3081b36cfb52"
      },
      "outputs": [
        {
          "output_type": "stream",
          "name": "stdout",
          "text": [
            "train 1.7723759412765503\n",
            "valid 1.9898982048034668\n"
          ]
        }
      ],
      "source": [
        "print(\"train\", split_loss(\"train\"))\n",
        "print(\"valid\", split_loss(\"valid\"))"
      ]
    },
    {
      "cell_type": "code",
      "execution_count": null,
      "metadata": {
        "colab": {
          "base_uri": "https://localhost:8080/"
        },
        "id": "4y97WnKmKs-i",
        "outputId": "c8197f48-57f0-4192-c3d2-cf4f6bce90f1"
      },
      "outputs": [
        {
          "output_type": "stream",
          "name": "stdout",
          "text": [
            "freer\n",
            "layaani\n",
            "savie\n",
            "pranith\n",
            "ariely\n",
            "deany\n",
            "zackari\n",
            "lauri\n",
            "reyden\n",
            "drekua\n",
            "mihira\n",
            "nihe\n",
            "tajavarus\n",
            "abdulwamina\n",
            "zeara\n",
            "yanah\n",
            "nasi\n",
            "kahera\n",
            "tyair\n",
            "naida\n"
          ]
        }
      ],
      "source": [
        "# sampling from the model\n",
        "g = torch.Generator().manual_seed(2147483647 + 10)\n",
        "\n",
        "for _ in range(20):\n",
        "    out = []\n",
        "    context = [0] * block_size\n",
        "    while True:\n",
        "        # Forward pass\n",
        "        logits = model(torch.tensor([context]).reshape(1, -1))\n",
        "        probs = F.softmax(logits, dim=1)\n",
        "\n",
        "        ix = torch.multinomial(probs, num_samples=1).item()\n",
        "\n",
        "        # Shift the Context Window\n",
        "        context = context[1:] + [ix]\n",
        "\n",
        "        if ix == 0:\n",
        "            break\n",
        "\n",
        "        out.append(ix)\n",
        "\n",
        "    print(\"\".join(itos[i] for i in out))"
      ]
    },
    {
      "cell_type": "markdown",
      "metadata": {
        "id": "2LviTtm4Ks-i"
      },
      "source": [
        "validation loss becomes 1.993"
      ]
    }
  ],
  "metadata": {
    "kernelspec": {
      "display_name": "pytor",
      "language": "python",
      "name": "python3"
    },
    "language_info": {
      "codemirror_mode": {
        "name": "ipython",
        "version": 3
      },
      "file_extension": ".py",
      "mimetype": "text/x-python",
      "name": "python",
      "nbconvert_exporter": "python",
      "pygments_lexer": "ipython3",
      "version": "3.11.3"
    },
    "orig_nbformat": 4,
    "colab": {
      "provenance": [],
      "include_colab_link": true
    }
  },
  "nbformat": 4,
  "nbformat_minor": 0
}